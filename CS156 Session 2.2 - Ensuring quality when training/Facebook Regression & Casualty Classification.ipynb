{
 "cells": [
  {
   "cell_type": "code",
   "execution_count": 1,
   "metadata": {},
   "outputs": [],
   "source": [
    "import pandas as pd\n",
    "import numpy as np\n",
    "import matplotlib.pyplot as plt\n",
    "import seaborn as sns\n",
    "%matplotlib inline\n",
    "sns.set()"
   ]
  },
  {
   "cell_type": "code",
   "execution_count": 87,
   "metadata": {},
   "outputs": [
    {
     "name": "stdout",
     "output_type": "stream",
     "text": [
      "<class 'pandas.core.frame.DataFrame'>\n",
      "RangeIndex: 397 entries, 0 to 396\n",
      "Data columns (total 10 columns):\n",
      "total_followers    397 non-null int64\n",
      "type               397 non-null object\n",
      "category           397 non-null int64\n",
      "month              397 non-null int64\n",
      "weekday            397 non-null int64\n",
      "hour               397 non-null int64\n",
      "paid               397 non-null int64\n",
      "comment            397 non-null int64\n",
      "like               397 non-null int64\n",
      "share              397 non-null int64\n",
      "dtypes: int64(9), object(1)\n",
      "memory usage: 31.1+ KB\n"
     ]
    },
    {
     "data": {
      "text/html": [
       "<div>\n",
       "<style scoped>\n",
       "    .dataframe tbody tr th:only-of-type {\n",
       "        vertical-align: middle;\n",
       "    }\n",
       "\n",
       "    .dataframe tbody tr th {\n",
       "        vertical-align: top;\n",
       "    }\n",
       "\n",
       "    .dataframe thead th {\n",
       "        text-align: right;\n",
       "    }\n",
       "</style>\n",
       "<table border=\"1\" class=\"dataframe\">\n",
       "  <thead>\n",
       "    <tr style=\"text-align: right;\">\n",
       "      <th></th>\n",
       "      <th>total_followers</th>\n",
       "      <th>type</th>\n",
       "      <th>category</th>\n",
       "      <th>month</th>\n",
       "      <th>weekday</th>\n",
       "      <th>hour</th>\n",
       "      <th>paid</th>\n",
       "      <th>comment</th>\n",
       "      <th>like</th>\n",
       "      <th>share</th>\n",
       "    </tr>\n",
       "  </thead>\n",
       "  <tbody>\n",
       "    <tr>\n",
       "      <th>0</th>\n",
       "      <td>124050</td>\n",
       "      <td>Photo</td>\n",
       "      <td>3</td>\n",
       "      <td>6</td>\n",
       "      <td>4</td>\n",
       "      <td>17</td>\n",
       "      <td>1</td>\n",
       "      <td>3</td>\n",
       "      <td>77</td>\n",
       "      <td>16</td>\n",
       "    </tr>\n",
       "    <tr>\n",
       "      <th>1</th>\n",
       "      <td>132556</td>\n",
       "      <td>Photo</td>\n",
       "      <td>2</td>\n",
       "      <td>8</td>\n",
       "      <td>3</td>\n",
       "      <td>24</td>\n",
       "      <td>0</td>\n",
       "      <td>11</td>\n",
       "      <td>313</td>\n",
       "      <td>50</td>\n",
       "    </tr>\n",
       "    <tr>\n",
       "      <th>2</th>\n",
       "      <td>92786</td>\n",
       "      <td>Photo</td>\n",
       "      <td>2</td>\n",
       "      <td>2</td>\n",
       "      <td>6</td>\n",
       "      <td>17</td>\n",
       "      <td>1</td>\n",
       "      <td>2</td>\n",
       "      <td>145</td>\n",
       "      <td>39</td>\n",
       "    </tr>\n",
       "    <tr>\n",
       "      <th>3</th>\n",
       "      <td>135632</td>\n",
       "      <td>Photo</td>\n",
       "      <td>1</td>\n",
       "      <td>9</td>\n",
       "      <td>2</td>\n",
       "      <td>1</td>\n",
       "      <td>0</td>\n",
       "      <td>2</td>\n",
       "      <td>299</td>\n",
       "      <td>49</td>\n",
       "    </tr>\n",
       "    <tr>\n",
       "      <th>4</th>\n",
       "      <td>139540</td>\n",
       "      <td>Link</td>\n",
       "      <td>1</td>\n",
       "      <td>12</td>\n",
       "      <td>3</td>\n",
       "      <td>17</td>\n",
       "      <td>1</td>\n",
       "      <td>7</td>\n",
       "      <td>229</td>\n",
       "      <td>21</td>\n",
       "    </tr>\n",
       "  </tbody>\n",
       "</table>\n",
       "</div>"
      ],
      "text/plain": [
       "   total_followers   type  category  month  weekday  hour  paid  comment  \\\n",
       "0           124050  Photo         3      6        4    17     1        3   \n",
       "1           132556  Photo         2      8        3    24     0       11   \n",
       "2            92786  Photo         2      2        6    17     1        2   \n",
       "3           135632  Photo         1      9        2     1     0        2   \n",
       "4           139540   Link         1     12        3    17     1        7   \n",
       "\n",
       "   like  share  \n",
       "0    77     16  \n",
       "1   313     50  \n",
       "2   145     39  \n",
       "3   299     49  \n",
       "4   229     21  "
      ]
     },
     "execution_count": 87,
     "metadata": {},
     "output_type": "execute_result"
    }
   ],
   "source": [
    "fb = pd.read_csv('facebook_train.csv')\n",
    "fb.info()\n",
    "fb.head()"
   ]
  },
  {
   "cell_type": "code",
   "execution_count": 88,
   "metadata": {},
   "outputs": [
    {
     "name": "stdout",
     "output_type": "stream",
     "text": [
      "Index(['Photo', 'Link', 'Status', 'Video'], dtype='object')\n"
     ]
    }
   ],
   "source": [
    "#factorize string columns\n",
    "fb['type'],fb_type = pd.factorize(fb['type'])\n",
    "print(fb_type)"
   ]
  },
  {
   "cell_type": "code",
   "execution_count": 96,
   "metadata": {},
   "outputs": [
    {
     "name": "stdout",
     "output_type": "stream",
     "text": [
      "   total_followers  type  category  month  weekday  hour  paid\n",
      "0           124050     0         3      6        4    17     1\n",
      "1           132556     0         2      8        3    24     0\n",
      "2            92786     0         2      2        6    17     1\n",
      "3           135632     0         1      9        2     1     0\n",
      "4           139540     1         1     12        3    17     1\n",
      "   like\n",
      "0    77\n",
      "1   313\n",
      "2   145\n",
      "3   299\n",
      "4   229\n",
      "   comment\n",
      "0        3\n",
      "1       11\n",
      "2        2\n",
      "3        2\n",
      "4        7\n",
      "   share\n",
      "0     16\n",
      "1     50\n",
      "2     39\n",
      "3     49\n",
      "4     21\n"
     ]
    }
   ],
   "source": [
    "fb_x = fb[['total_followers','type','category','month','weekday','hour','paid']]\n",
    "fb_like = fb[['like']]\n",
    "fb_comment = fb[['comment']]\n",
    "fb_share = fb[['share']]\n",
    "print(fb_x.head())\n",
    "print(fb_like.head())\n",
    "print(fb_comment.head())\n",
    "print(fb_share.head())"
   ]
  },
  {
   "cell_type": "code",
   "execution_count": 97,
   "metadata": {},
   "outputs": [],
   "source": [
    "from sklearn.model_selection import train_test_split\n",
    "\n",
    "#split into train and test data\n",
    "fb_x_train,fb_x_test,fb_like_train,fb_like_test = train_test_split(fb_x,fb_like,test_size=0.2)\n",
    "fb_x_train,fb_x_test,fb_comment_train,fb_comment_test = train_test_split(fb_x,fb_comment,test_size=0.2)\n",
    "fb_x_train,fb_x_test,fb_share_train,fb_share_test = train_test_split(fb_x,fb_share,test_size=0.2)"
   ]
  },
  {
   "cell_type": "code",
   "execution_count": 119,
   "metadata": {},
   "outputs": [
    {
     "name": "stdout",
     "output_type": "stream",
     "text": [
      "[[458.59304241]\n",
      " [128.51888414]\n",
      " [556.53213171]\n",
      " [219.89430717]\n",
      " [185.43989492]]\n"
     ]
    },
    {
     "data": {
      "image/png": "[encoded data removed]",
      "text/plain": [
       "<Figure size 432x288 with 1 Axes>"
      ]
     },
     "metadata": {},
     "output_type": "display_data"
    },
    {
     "name": "stdout",
     "output_type": "stream",
     "text": [
      "Score: -1.311769052556362\n",
      "[[409.59199695]\n",
      " [255.75239738]\n",
      " [242.94867153]\n",
      " [175.56715313]\n",
      " [215.2660508 ]]\n"
     ]
    },
    {
     "data": {
      "image/png": "[encoded data removed]",
      "text/plain": [
       "<Figure size 432x288 with 1 Axes>"
      ]
     },
     "metadata": {},
     "output_type": "display_data"
    },
    {
     "name": "stdout",
     "output_type": "stream",
     "text": [
      "Cross-validated scores: [-0.1335011   0.07682692  0.00157787 -0.0145426  -0.00877784 -0.10329765]\n"
     ]
    }
   ],
   "source": [
    "from sklearn import linear_model\n",
    "from sklearn.model_selection import cross_val_score, cross_val_predict\n",
    "\n",
    "lm = linear_model.LinearRegression()\n",
    "model = lm.fit(fb_x_train, fb_like_train)\n",
    "predictions = lm.predict(fb_x_test)\n",
    "print(predictions[:5])\n",
    "\n",
    "## The line / model\n",
    "plt.scatter(fb_like_test, predictions)\n",
    "plt.xlabel(\"True Values\")\n",
    "plt.ylabel(\"Predictions\")\n",
    "plt.show()\n",
    "print(\"Score:\", model.score(fb_x_test, fb_like_test))\n",
    "\n",
    "\n",
    "cv_predictions = cross_val_predict(model,fb_x,fb_like)\n",
    "print(cv_predictions[:5])\n",
    "plt.scatter(fb_like, cv_predictions)\n",
    "plt.xlabel(\"True Values\")\n",
    "plt.ylabel(\"Predictions\")\n",
    "plt.show()\n",
    "scores = cross_val_score(model, fb_x, fb_like, cv=6)\n",
    "print(\"Cross-validated scores:\", scores)"
   ]
  },
  {
   "cell_type": "code",
   "execution_count": 3,
   "metadata": {},
   "outputs": [
    {
     "name": "stdout",
     "output_type": "stream",
     "text": [
      "<class 'pandas.core.frame.DataFrame'>\n",
      "RangeIndex: 232835 entries, 0 to 232834\n",
      "Data columns (total 8 columns):\n",
      "casualty_class         232835 non-null object\n",
      "gender                 232835 non-null object\n",
      "age                    232835 non-null object\n",
      "severe                 232835 non-null bool\n",
      "pedestrian_location    43259 non-null object\n",
      "pedestrian_movement    43259 non-null object\n",
      "travel                 232835 non-null object\n",
      "year                   232835 non-null int64\n",
      "dtypes: bool(1), int64(1), object(6)\n",
      "memory usage: 12.7+ MB\n"
     ]
    },
    {
     "data": {
      "text/html": [
       "<div>\n",
       "<style scoped>\n",
       "    .dataframe tbody tr th:only-of-type {\n",
       "        vertical-align: middle;\n",
       "    }\n",
       "\n",
       "    .dataframe tbody tr th {\n",
       "        vertical-align: top;\n",
       "    }\n",
       "\n",
       "    .dataframe thead th {\n",
       "        text-align: right;\n",
       "    }\n",
       "</style>\n",
       "<table border=\"1\" class=\"dataframe\">\n",
       "  <thead>\n",
       "    <tr style=\"text-align: right;\">\n",
       "      <th></th>\n",
       "      <th>casualty_class</th>\n",
       "      <th>gender</th>\n",
       "      <th>age</th>\n",
       "      <th>severe</th>\n",
       "      <th>pedestrian_location</th>\n",
       "      <th>pedestrian_movement</th>\n",
       "      <th>travel</th>\n",
       "      <th>year</th>\n",
       "    </tr>\n",
       "  </thead>\n",
       "  <tbody>\n",
       "    <tr>\n",
       "      <th>0</th>\n",
       "      <td>passenger</td>\n",
       "      <td>female</td>\n",
       "      <td>33</td>\n",
       "      <td>False</td>\n",
       "      <td>NaN</td>\n",
       "      <td>NaN</td>\n",
       "      <td>motorbike</td>\n",
       "      <td>2007</td>\n",
       "    </tr>\n",
       "    <tr>\n",
       "      <th>1</th>\n",
       "      <td>passenger</td>\n",
       "      <td>female</td>\n",
       "      <td>20</td>\n",
       "      <td>False</td>\n",
       "      <td>NaN</td>\n",
       "      <td>NaN</td>\n",
       "      <td>car</td>\n",
       "      <td>2005</td>\n",
       "    </tr>\n",
       "    <tr>\n",
       "      <th>2</th>\n",
       "      <td>passenger</td>\n",
       "      <td>male</td>\n",
       "      <td>52</td>\n",
       "      <td>False</td>\n",
       "      <td>NaN</td>\n",
       "      <td>NaN</td>\n",
       "      <td>car</td>\n",
       "      <td>2006</td>\n",
       "    </tr>\n",
       "    <tr>\n",
       "      <th>3</th>\n",
       "      <td>passenger</td>\n",
       "      <td>female</td>\n",
       "      <td>17</td>\n",
       "      <td>False</td>\n",
       "      <td>NaN</td>\n",
       "      <td>NaN</td>\n",
       "      <td>pedestrian</td>\n",
       "      <td>2012</td>\n",
       "    </tr>\n",
       "    <tr>\n",
       "      <th>4</th>\n",
       "      <td>passenger</td>\n",
       "      <td>female</td>\n",
       "      <td>20</td>\n",
       "      <td>False</td>\n",
       "      <td>NaN</td>\n",
       "      <td>NaN</td>\n",
       "      <td>motorbike</td>\n",
       "      <td>2010</td>\n",
       "    </tr>\n",
       "  </tbody>\n",
       "</table>\n",
       "</div>"
      ],
      "text/plain": [
       "  casualty_class  gender age  severe pedestrian_location pedestrian_movement  \\\n",
       "0      passenger  female  33   False                 NaN                 NaN   \n",
       "1      passenger  female  20   False                 NaN                 NaN   \n",
       "2      passenger    male  52   False                 NaN                 NaN   \n",
       "3      passenger  female  17   False                 NaN                 NaN   \n",
       "4      passenger  female  20   False                 NaN                 NaN   \n",
       "\n",
       "       travel  year  \n",
       "0   motorbike  2007  \n",
       "1         car  2005  \n",
       "2         car  2006  \n",
       "3  pedestrian  2012  \n",
       "4   motorbike  2010  "
      ]
     },
     "execution_count": 3,
     "metadata": {},
     "output_type": "execute_result"
    }
   ],
   "source": [
    "casualty = pd.read_csv('casualty_train.csv')\n",
    "casualty.info()\n",
    "casualty.head()"
   ]
  },
  {
   "cell_type": "code",
   "execution_count": 4,
   "metadata": {},
   "outputs": [
    {
     "name": "stdout",
     "output_type": "stream",
     "text": [
      "16225 unknown age values\n",
      "mean age: 32\n"
     ]
    }
   ],
   "source": [
    "#large chunk of \"age\" values are unknown, so fill in with mean age.\n",
    "print(f\"{len(casualty[casualty['age'] == 'Unknown'])} unknown age values\")\n",
    "\n",
    "#if age is unknown, replace with 0\n",
    "casualty.loc[casualty['age'] == 'Unknown', 'age'] = 0\n",
    "#convert age column to int so that mean can be obtained\n",
    "casualty['age'] = casualty['age'].astype(int)\n",
    "#replace all 0 age values with mean\n",
    "print(f\"mean age: {int(np.mean(casualty['age']))}\")\n",
    "casualty.loc[casualty['age'] == 0, 'age'] = int(np.mean(casualty['age']))"
   ]
  },
  {
   "cell_type": "code",
   "execution_count": 5,
   "metadata": {},
   "outputs": [],
   "source": [
    "#factorize string columns\n",
    "casualty['casualty_class'],casualty_class = pd.factorize(casualty['casualty_class'])\n",
    "casualty['gender'],gender = pd.factorize(casualty['gender'])\n",
    "casualty['travel'],travel = pd.factorize(casualty['travel'])\n",
    "casualty['year'] = casualty['year'].astype(int)\n"
   ]
  },
  {
   "cell_type": "code",
   "execution_count": 6,
   "metadata": {},
   "outputs": [
    {
     "name": "stdout",
     "output_type": "stream",
     "text": [
      "Index(['passenger', 'pedestrian', 'driver'], dtype='object')\n",
      "Index(['female', 'male'], dtype='object')\n",
      "Index(['motorbike', 'car', 'pedestrian', 'bicycle', 'taxi', 'bus', 'other'], dtype='object')\n",
      "<class 'pandas.core.frame.DataFrame'>\n",
      "RangeIndex: 232835 entries, 0 to 232834\n",
      "Data columns (total 8 columns):\n",
      "casualty_class         232835 non-null int64\n",
      "gender                 232835 non-null int64\n",
      "age                    232835 non-null int64\n",
      "severe                 232835 non-null bool\n",
      "pedestrian_location    43259 non-null object\n",
      "pedestrian_movement    43259 non-null object\n",
      "travel                 232835 non-null int64\n",
      "year                   232835 non-null int64\n",
      "dtypes: bool(1), int64(5), object(2)\n",
      "memory usage: 12.7+ MB\n"
     ]
    }
   ],
   "source": [
    "#check labels\n",
    "print(casualty_class)\n",
    "print(gender)\n",
    "print(travel)\n",
    "\n",
    "casualty.info()"
   ]
  },
  {
   "cell_type": "code",
   "execution_count": 56,
   "metadata": {},
   "outputs": [
    {
     "name": "stdout",
     "output_type": "stream",
     "text": [
      "   casualty_class  gender  age  travel  year\n",
      "0               0       0   33       0  2007\n",
      "1               0       0   20       1  2005\n",
      "2               0       1   52       1  2006\n",
      "3               0       0   17       2  2012\n",
      "4               0       0   20       0  2010\n",
      "   severe\n",
      "0   False\n",
      "1   False\n",
      "2   False\n",
      "3   False\n",
      "4   False\n"
     ]
    }
   ],
   "source": [
    "casualty_x = casualty[['casualty_class','gender','age','travel','year']]\n",
    "casualty_y = casualty[['severe']]\n",
    "print(casualty_x.head())\n",
    "print(casualty_y.head())"
   ]
  },
  {
   "cell_type": "code",
   "execution_count": 53,
   "metadata": {},
   "outputs": [
    {
     "name": "stdout",
     "output_type": "stream",
     "text": [
      "(186268, 5) (186268, 1)\n",
      "(46567, 5) (46567, 1)\n"
     ]
    }
   ],
   "source": [
    "#split into train and test data\n",
    "casualty_x_train,casualty_x_test,casualty_y_train,casualty_y_test = train_test_split(casualty_x,casualty_y,test_size=0.2)\n",
    "print(casualty_x_train.shape, casualty_y_train.shape)\n",
    "print(casualty_x_test.shape, casualty_y_test.shape)"
   ]
  },
  {
   "cell_type": "code",
   "execution_count": 61,
   "metadata": {},
   "outputs": [
    {
     "data": {
      "text/plain": [
       "Text(0,0.5,'Cross-validated accuracy')"
      ]
     },
     "execution_count": 61,
     "metadata": {},
     "output_type": "execute_result"
    },
    {
     "data": {
      "image/png": "[encoded data removed]",
      "text/plain": [
       "<Figure size 432x288 with 1 Axes>"
      ]
     },
     "metadata": {},
     "output_type": "display_data"
    }
   ],
   "source": [
    "from sklearn.neighbors import KNeighborsClassifier\n",
    "from sklearn.model_selection import cross_val_score\n",
    "\n",
    "# search for an optimal value of K for KNN\n",
    "\n",
    "# range of k we want to try\n",
    "k_range = range(1, 21)\n",
    "# empty list to store scores\n",
    "k_scores = []\n",
    "\n",
    "# 1. we will loop through reasonable values of k\n",
    "for k in k_range:\n",
    "    # 2. run KNeighborsClassifier with k neighbours\n",
    "    knn = KNeighborsClassifier(n_neighbors=k)\n",
    "    # 3. obtain cross_val_score for KNeighborsClassifier with k neighbours\n",
    "    scores = cross_val_score(knn, casualty_x_train, casualty_y_train.values.ravel(), scoring='accuracy')\n",
    "    # 4. append mean of scores for k neighbors to k_scores list\n",
    "    k_scores.append(scores.mean())\n",
    "    \n",
    "# plot the value of K for KNN (x-axis) versus the cross-validated accuracy (y-axis)\n",
    "# plt.plot(x_axis, y_axis)\n",
    "plt.plot(k_range, k_scores)\n",
    "plt.xlabel('Value of K for KNN')\n",
    "plt.ylabel('Cross-validated accuracy')"
   ]
  },
  {
   "cell_type": "code",
   "execution_count": 63,
   "metadata": {},
   "outputs": [],
   "source": [
    "chosen_knn = KNeighborsClassifier(n_neighbors=10)\n",
    "model = knn.fit(casualty_x_train, casualty_y_train.values.ravel())\n",
    "predictions = model.predict(casualty_x_test)"
   ]
  },
  {
   "cell_type": "code",
   "execution_count": 69,
   "metadata": {},
   "outputs": [
    {
     "name": "stdout",
     "output_type": "stream",
     "text": [
      "[False False False ... False False False]\n",
      "Score: 0.892477505529667\n"
     ]
    }
   ],
   "source": [
    "print(predictions)\n",
    "print(\"Score:\", model.score(casualty_x_test, casualty_y_test))"
   ]
  },
  {
   "cell_type": "code",
   "execution_count": 85,
   "metadata": {},
   "outputs": [
    {
     "name": "stdout",
     "output_type": "stream",
     "text": [
      "Feature  Accuracy\n",
      "0        0.854941\n",
      "1        0.8923\n",
      "2        0.881826\n",
      "3        0.8923\n",
      "4        0.8923\n"
     ]
    }
   ],
   "source": [
    "#quantify how much the different input variables predict the severity outcome\n",
    "n_feats = casualty_x_train.shape[1]\n",
    "knn = KNeighborsClassifier()\n",
    "\n",
    "print('Feature  Accuracy')\n",
    "for i in range(n_feats):\n",
    "    X = casualty_x_train.values[:,i].reshape(-1, 1)\n",
    "    scores = cross_val_score(knn, X, casualty_y_train.values.ravel(), scoring='accuracy')\n",
    "    print('%d        %g' % (i, scores.mean()))\n",
    "    "
   ]
  },
  {
   "cell_type": "markdown",
   "metadata": {},
   "source": [
    "### References:\n",
    "\n",
    "<ul>\n",
    "    <li><a href=\"https://scikit-learn.org/stable/modules/generated/sklearn.model_selection.cross_val_score.html\">cross_val_score documentation</a></li>\n",
    "    <li><a href=\"https://scikit-learn.org/stable/modules/model_evaluation.html\">Scoring parameter</a></li>\n",
    "    <li><a href=\"https://github.com/scikit-learn/scikit-learn/issues/2439\">Negative MSE Explained</a></li>\n",
    "    <li><a href=\"https://www.ritchieng.com/machine-learning-cross-validation/\">General Cross-Validation tutorial</a></li>\n",
    "</ul>"
   ]
  }
 ],
 "metadata": {
  "kernelspec": {
   "display_name": "Python 3",
   "language": "python",
   "name": "python3"
  },
  "language_info": {
   "codemirror_mode": {
    "name": "ipython",
    "version": 3
   },
   "file_extension": ".py",
   "mimetype": "text/x-python",
   "name": "python",
   "nbconvert_exporter": "python",
   "pygments_lexer": "ipython3",
   "version": "3.6.5"
  }
 },
 "nbformat": 4,
 "nbformat_minor": 2
}
