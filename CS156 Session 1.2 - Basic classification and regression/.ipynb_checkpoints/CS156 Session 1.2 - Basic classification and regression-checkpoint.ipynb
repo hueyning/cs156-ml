{
 "cells": [
  {
   "cell_type": "code",
   "execution_count": 44,
   "metadata": {},
   "outputs": [],
   "source": [
    "import pandas as pd\n",
    "import numpy as np\n",
    "import matplotlib.pyplot as plt\n",
    "from datetime import datetime"
   ]
  },
  {
   "cell_type": "markdown",
   "metadata": {},
   "source": [
    "<h2>Moore’s law</h2>\n",
    "\n",
    "Moore's law is the observation that the number of transistors in a dense integrated circuit doubles about every two years.\n",
    "\n",
    "Use the scripts from: https://github.com/preshing/analyze-spec-benchmarks to download a large amount of data relating to CPU specs. The script might take as long as an hour, depending on your connection speed.\n",
    "\n",
    "This will save the data in the following format:\n",
    "\n",
    "testID,benchName,base,peak\n",
    "\n",
    "cpu95-19990104-03254,101.tomcatv,19.4,27.1\n",
    "\n",
    "cpu95-19990104-03254,102.swim,27.2,34.8\n",
    "\n",
    "cpu95-19990104-03254,103.su2cor,10.1,9.98\n",
    "\n",
    "cpu95-19990104-03254,104.hydro2d,8.58,8.61\n",
    "\n",
    "Now do the following:\n",
    "\n",
    "- Extract the date and base speed for a benchmark of your choice\n",
    "\n",
    "- Plot the data in a semi-log plot\n",
    "\n",
    "- Now train a linear model to fit your plot\n",
    "\n",
    "- How well is Moore’s law holding up?\n"
   ]
  },
  {
   "cell_type": "code",
   "execution_count": 45,
   "metadata": {},
   "outputs": [
    {
     "data": {
      "text/html": [
       "<div>\n",
       "<style scoped>\n",
       "    .dataframe tbody tr th:only-of-type {\n",
       "        vertical-align: middle;\n",
       "    }\n",
       "\n",
       "    .dataframe tbody tr th {\n",
       "        vertical-align: top;\n",
       "    }\n",
       "\n",
       "    .dataframe thead th {\n",
       "        text-align: right;\n",
       "    }\n",
       "</style>\n",
       "<table border=\"1\" class=\"dataframe\">\n",
       "  <thead>\n",
       "    <tr style=\"text-align: right;\">\n",
       "      <th></th>\n",
       "      <th>testID</th>\n",
       "      <th>benchName</th>\n",
       "      <th>base</th>\n",
       "      <th>peak</th>\n",
       "    </tr>\n",
       "  </thead>\n",
       "  <tbody>\n",
       "    <tr>\n",
       "      <th>0</th>\n",
       "      <td>cpu95-19990104-03254</td>\n",
       "      <td>101.tomcatv</td>\n",
       "      <td>19.4</td>\n",
       "      <td>27.1</td>\n",
       "    </tr>\n",
       "    <tr>\n",
       "      <th>1</th>\n",
       "      <td>cpu95-19990104-03254</td>\n",
       "      <td>102.swim</td>\n",
       "      <td>27.2</td>\n",
       "      <td>34.8</td>\n",
       "    </tr>\n",
       "    <tr>\n",
       "      <th>2</th>\n",
       "      <td>cpu95-19990104-03254</td>\n",
       "      <td>103.su2cor</td>\n",
       "      <td>10.1</td>\n",
       "      <td>9.98</td>\n",
       "    </tr>\n",
       "    <tr>\n",
       "      <th>3</th>\n",
       "      <td>cpu95-19990104-03254</td>\n",
       "      <td>104.hydro2d</td>\n",
       "      <td>8.58</td>\n",
       "      <td>8.61</td>\n",
       "    </tr>\n",
       "    <tr>\n",
       "      <th>4</th>\n",
       "      <td>cpu95-19990104-03254</td>\n",
       "      <td>107.mgrid</td>\n",
       "      <td>8.94</td>\n",
       "      <td>9.44</td>\n",
       "    </tr>\n",
       "  </tbody>\n",
       "</table>\n",
       "</div>"
      ],
      "text/plain": [
       "                 testID    benchName  base  peak\n",
       "0  cpu95-19990104-03254  101.tomcatv  19.4  27.1\n",
       "1  cpu95-19990104-03254     102.swim  27.2  34.8\n",
       "2  cpu95-19990104-03254   103.su2cor  10.1  9.98\n",
       "3  cpu95-19990104-03254  104.hydro2d  8.58  8.61\n",
       "4  cpu95-19990104-03254    107.mgrid  8.94  9.44"
      ]
     },
     "execution_count": 45,
     "metadata": {},
     "output_type": "execute_result"
    }
   ],
   "source": [
    "df = pd.read_csv('spec-data/benchmarks.txt',dtype='unicode')\n",
    "df.head()"
   ]
  },
  {
   "cell_type": "code",
   "execution_count": 46,
   "metadata": {},
   "outputs": [
    {
     "name": "stdout",
     "output_type": "stream",
     "text": [
      "original length of dataset: 575. After dropping invalid testIDs: 542\n"
     ]
    }
   ],
   "source": [
    "#function to calculate difference in days between two dates\n",
    "def days_between(d1, d2):\n",
    "    d1 = datetime.strptime(d1, \"%Y-%m-%d\")\n",
    "    d2 = datetime.strptime(d2, \"%Y-%m-%d\")\n",
    "    return abs((d2 - d1).days)\n",
    "\n",
    "benchmark = df['benchName'].unique()[0] #101.tomcattv\n",
    "\n",
    "#extract date from test ID\n",
    "new_df = df[(df['benchName'] == benchmark) & (df['testID'].str.startswith('cpu'))][['testID','base']]\n",
    "\n",
    "#compare lengths\n",
    "print(f\"original length of dataset: {len(df[(df['benchName'] == benchmark)])}. After dropping invalid testIDs: {len(new_df)}\")\n",
    "\n",
    "new_df['testID'] = new_df['testID'].str[6:-6]\n",
    "new_df['testID'] = pd.to_datetime(new_df['testID'])\n",
    "\n",
    "#convert date to days\n",
    "new_df['testID'] = new_df['testID'].map(lambda testID : ((testID - min(new_df['testID'])).days))\n",
    "\n",
    "#convert base time to log\n",
    "new_df['base'] = new_df['base'].astype(float)\n",
    "new_df['logbase'] = np.log(new_df['base'])\n"
   ]
  },
  {
   "cell_type": "code",
   "execution_count": 47,
   "metadata": {},
   "outputs": [
    {
     "data": {
      "text/plain": [
       "Text(0,0.5,'Log Base Speed')"
      ]
     },
     "execution_count": 47,
     "metadata": {},
     "output_type": "execute_result"
    },
    {
     "data": {
      "image/png": "[encoded data removed]",
      "text/plain": [
       "<Figure size 1008x576 with 1 Axes>"
      ]
     },
     "metadata": {},
     "output_type": "display_data"
    }
   ],
   "source": [
    "plt.figure(figsize=(14,8))\n",
    "plt.scatter(new_df['testID'], new_df['logbase'],marker='o')\n",
    "plt.xlabel(\"Days\")\n",
    "plt.ylabel(\"Log Base Speed\")"
   ]
  },
  {
   "cell_type": "code",
   "execution_count": 66,
   "metadata": {},
   "outputs": [],
   "source": [
    "from sklearn import linear_model\n",
    "from sklearn.metrics import mean_squared_error, r2_score\n",
    "\n",
    "k = int(len(new_df)/2)\n",
    "\n",
    "# Split the data into training/testing sets\n",
    "x_train = np.array(new_df['testID'][:k]).reshape(-1, 1)\n",
    "x_test = np.array(new_df['testID'][k:]).reshape(-1, 1)\n",
    "\n",
    "# Split the targets into training/testing sets\n",
    "y_train = np.array(new_df['logbase'][:k]).reshape(-1, 1)\n",
    "y_test = np.array(new_df['logbase'][k:]).reshape(-1, 1)\n",
    "\n",
    "# Create linear regression object\n",
    "regr = linear_model.LinearRegression()\n",
    "\n",
    "# Train the model using the training sets\n",
    "regr.fit(x_train, y_train)\n",
    "\n",
    "# Make predictions using the testing set\n",
    "y_pred = regr.predict(x_test)"
   ]
  },
  {
   "cell_type": "code",
   "execution_count": 69,
   "metadata": {},
   "outputs": [
    {
     "name": "stdout",
     "output_type": "stream",
     "text": [
      "Coefficients: \n",
      " [[0.0012537]]\n",
      "Mean squared error: 0.67\n",
      "Variance score: 0.07\n"
     ]
    },
    {
     "data": {
      "text/plain": [
       "[<matplotlib.lines.Line2D at 0x1a1c92e978>]"
      ]
     },
     "execution_count": 69,
     "metadata": {},
     "output_type": "execute_result"
    },
    {
     "data": {
      "image/png": "[encoded data removed]",
      "text/plain": [
       "<Figure size 1008x576 with 1 Axes>"
      ]
     },
     "metadata": {},
     "output_type": "display_data"
    }
   ],
   "source": [
    "# The coefficients\n",
    "print('Coefficients: \\n', regr.coef_)\n",
    "# The mean squared error\n",
    "print(\"Mean squared error: %.2f\" % mean_squared_error(y_test, y_pred))\n",
    "# Explained variance score: 1 is perfect prediction\n",
    "print('Variance score: %.2f' % r2_score(y_test, y_pred))\n",
    "\n",
    "# Plot outputs\n",
    "plt.figure(figsize=(14,8))\n",
    "plt.xlabel(\"Days\")\n",
    "plt.ylabel(\"Log Base Speed\")\n",
    "plt.scatter(x_test, y_test)\n",
    "plt.plot(x_test, y_pred, color='coral', linewidth=3)"
   ]
  },
  {
   "cell_type": "code",
   "execution_count": 68,
   "metadata": {},
   "outputs": [
    {
     "data": {
      "text/plain": [
       "[array([1.42347123]),\n",
       " array([1.29749195]),\n",
       " array([1.22928231]),\n",
       " array([1.18651721]),\n",
       " array([1.15719722]),\n",
       " array([1.13584307]),\n",
       " array([1.11959669]),\n",
       " array([1.10682122]),\n",
       " array([1.09651172])]"
      ]
     },
     "execution_count": 68,
     "metadata": {},
     "output_type": "execute_result"
    }
   ],
   "source": [
    "#check if number of transistors doubles every 2 years (does the base speed double every 2 years?)\n",
    "\n",
    "#set the two years time period (the unit for time is in days)\n",
    "two_yrs = 365*2\n",
    "\n",
    "#check 10 units of two years\n",
    "check_moores_x = np.array([two_yrs*i for i in range(10)]).reshape(-1, 1)\n",
    "\n",
    "#predict the log base speed \n",
    "check_moores_pred = regr.predict(check_moores_x)\n",
    "\n",
    "#check the log base speed ratio between each two years\n",
    "check_moores_ratio = [check_moores_pred[i+1]/check_moores_pred[i] for i in range(len(check_moores_pred)-1)]\n",
    "\n",
    "check_moores_ratio"
   ]
  },
  {
   "cell_type": "markdown",
   "metadata": {},
   "source": [
    "<h3>Conclusion</h3>\n",
    "\n",
    "From the results above, it looks like the log base speed is not doubling every 2 years. In fact, there are increasingly smaller increments in speed as the years go by. It should be noted that these results are derived from training a linear regression model on a specific subsetted dataset (benchName == tomcattv) with 542 data points, so the results may not be generalizable to other dense integrated circuits."
   ]
  },
  {
   "cell_type": "markdown",
   "metadata": {},
   "source": [
    "<h2>MNIST Digits</h2>\n",
    "\n",
    "No machine learning course would be complete without using the MNIST dataset. This dataset was a hugely influential dataset of handwritten digits (0-9).\n",
    "\n",
    "http://scikit-learn.org/stable/tutorial/basic/tutorial.html\n",
    "\n",
    "Using Scikit.learn, load the MNIST digits (See here: http://scikit-learn.org/stable/modules/generated/sklearn.datasets.load_digits.html#sklearn.datasets.load_digits).\n",
    "\n",
    "- Plot some of the examples.\n",
    "\n",
    "- Choose two digit classes (e.g 7s and 3s) , and train a k-nearest neighbor classifier.\n",
    "\n",
    "- Report your error rates on a held out part of the data.\n",
    "\n",
    "- (Optional) Test your model on the full dataset (available from http://yann.lecun.com/exdb/mnist/)"
   ]
  },
  {
   "cell_type": "code",
   "execution_count": 37,
   "metadata": {},
   "outputs": [
    {
     "data": {
      "image/png": "[encoded data removed]",
      "text/plain": [
       "<Figure size 432x288 with 8 Axes>"
      ]
     },
     "metadata": {},
     "output_type": "display_data"
    }
   ],
   "source": [
    "from sklearn.datasets import load_digits\n",
    "from sklearn.neighbors import KNeighborsClassifier\n",
    "from sklearn.metrics import classification_report\n",
    "from sklearn.model_selection import train_test_split\n",
    "\n",
    "digits = load_digits()\n",
    "\n",
    "images_and_labels = list(zip(digits.images, digits.target))\n",
    "for index, (image, label) in enumerate(images_and_labels[:8]):\n",
    "    plt.subplot(2, 4, index + 1)\n",
    "    plt.axis('off')\n",
    "    plt.imshow(image, cmap=plt.cm.gray_r, interpolation='nearest')\n",
    "    plt.title('Training: %i' % label)\n",
    "\n",
    "data, target = digits.data, digits.target\n",
    "two_filter = np.where((target == 7 ) | (target == 2))\n",
    "data, target = data[two_filter], target[two_filter]"
   ]
  },
  {
   "cell_type": "code",
   "execution_count": 39,
   "metadata": {},
   "outputs": [
    {
     "data": {
      "text/plain": [
       "((284, 64), (72, 64), (284,), (72,))"
      ]
     },
     "execution_count": 39,
     "metadata": {},
     "output_type": "execute_result"
    }
   ],
   "source": [
    "#split the dataset into training and testing data\n",
    "x_train,x_test,y_train,y_test = train_test_split(data,target,test_size=0.2)\n",
    "\n",
    "#check the dimensions of the datasets\n",
    "x_train.shape,x_test.shape,y_train.shape,y_test.shape"
   ]
  },
  {
   "cell_type": "code",
   "execution_count": 40,
   "metadata": {},
   "outputs": [
    {
     "name": "stdout",
     "output_type": "stream",
     "text": [
      "             precision    recall  f1-score   support\n",
      "\n",
      "          2       1.00      1.00      1.00        41\n",
      "          7       1.00      1.00      1.00        31\n",
      "\n",
      "avg / total       1.00      1.00      1.00        72\n",
      "\n",
      "             precision    recall  f1-score   support\n",
      "\n",
      "          2       1.00      0.98      0.99        41\n",
      "          7       0.97      1.00      0.98        31\n",
      "\n",
      "avg / total       0.99      0.99      0.99        72\n",
      "\n",
      "             precision    recall  f1-score   support\n",
      "\n",
      "          2       1.00      0.98      0.99        41\n",
      "          7       0.97      1.00      0.98        31\n",
      "\n",
      "avg / total       0.99      0.99      0.99        72\n",
      "\n"
     ]
    }
   ],
   "source": [
    "#referenced from https://towardsdatascience.com/building-improving-a-k-nearest-neighbors-algorithm-in-python-3b6b5320d2f8\n",
    "    \n",
    "def skl_knn(k, test_data, test_target, train_data, train_target):\n",
    "    \"\"\"k: number of neighbors to use in classication\n",
    "    test_data: the data/targets used to test the classifier\n",
    "    train_data: the data/targets used to train the classifier\n",
    "    \"\"\"\n",
    "    \n",
    "    #create KNN classifier object\n",
    "    knn = KNeighborsClassifier(n_neighbors=k)  \n",
    "    #train the model\n",
    "    model = knn.fit(train_data, train_target)\n",
    "    #make predictions\n",
    "    y_pred = knn.predict(test_data) \n",
    "\n",
    "    print(classification_report(test_target, y_pred))\n",
    "    \n",
    "skl_knn(1, x_test, y_test, x_train, y_train)\n",
    "skl_knn(10, x_test, y_test, x_train, y_train)\n",
    "skl_knn(15, x_test, y_test, x_train, y_train)"
   ]
  },
  {
   "cell_type": "markdown",
   "metadata": {},
   "source": [
    "<h3>Explanation of Classification Report</h3>\n",
    "\n",
    "<b>Precision</b>\n",
    "- The precision is the ratio tp / (tp + fp) where tp is the number of true positives and fp the number of false positives. The precision is intuitively the ability of the classifier not to label as positive a sample that is negative.\n",
    "\n",
    "<b>Recall</b>\n",
    "- The recall is the ratio tp / (tp + fn) where tp is the number of true positives and fn the number of false negatives. The recall is intuitively the ability of the classifier to find all the positive samples.\n",
    "\n",
    "<b>f1-score</b>\n",
    "- The F-beta score can be interpreted as a weighted harmonic mean of the precision and recall, where an F-beta score reaches its best value at 1 and worst score at 0.\n",
    "\n",
    "- The F-beta score weights recall more than precision by a factor of beta. beta == 1.0 means recall and precision are equally important.\n",
    "\n",
    "<b>support</b>\n",
    "- The support is the number of occurrences of each class in y_true.\n",
    "\n",
    "Source: https://scikit-learn.org/stable/modules/generated/sklearn.metrics.precision_recall_fscore_support.html"
   ]
  },
  {
   "cell_type": "markdown",
   "metadata": {},
   "source": [
    "<h2>Textbook Questions</h2>\n",
    "\n",
    "<h3>Exercise 1.14. </h3>\n",
    "\n",
    "A redistribution lottery involves picking the correct four numbers from 1 to 9 (without\n",
    "replacement, so 3,4,4,1 for example is not possible). The order of the picked numbers is irrelevant. Every\n",
    "week a million people play this game, each paying £1 to enter, with the numbers 3,5,7,9 being the most\n",
    "popular (1 in every 100 people chooses these numbers). Given that the million pounds prize money is split\n",
    "equally between winners, and that any four (different) numbers come up at random, what is the expected\n",
    "amount of money each of the players choosing 3,5,7,9 will win each week? The least popular set of numbers\n",
    "is 1,2,3,4 with only 1 in 10,000 people choosing this. How much do they profit each week, on average? Do\n",
    "you think there is any ‘skill’ involved in playing this lottery?"
   ]
  },
  {
   "cell_type": "markdown",
   "metadata": {},
   "source": [
    "<h3>Exercise 13.5. </h3>\n",
    "\n",
    "WowCo.com is a new startup prediction company. After years of failures, they eventually\n",
    "find a neural network with a trillion hidden units that achieves zero test error on every learning problem\n",
    "posted on the internet up to last week. Each learning problem included a train and test set. Proud of their\n",
    "achievement, they market their product aggressively with the claim that it ‘predicts perfectly on all known\n",
    "problems’. Discuss whether or not these claims would justify buying this product."
   ]
  },
  {
   "cell_type": "code",
   "execution_count": null,
   "metadata": {},
   "outputs": [],
   "source": []
  }
 ],
 "metadata": {
  "kernelspec": {
   "display_name": "Python 3",
   "language": "python",
   "name": "python3"
  },
  "language_info": {
   "codemirror_mode": {
    "name": "ipython",
    "version": 3
   },
   "file_extension": ".py",
   "mimetype": "text/x-python",
   "name": "python",
   "nbconvert_exporter": "python",
   "pygments_lexer": "ipython3",
   "version": "3.6.5"
  }
 },
 "nbformat": 4,
 "nbformat_minor": 2
}
