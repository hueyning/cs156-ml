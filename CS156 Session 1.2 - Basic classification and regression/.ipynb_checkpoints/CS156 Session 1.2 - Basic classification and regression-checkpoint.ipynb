{
 "cells": [
  {
   "cell_type": "code",
   "execution_count": 225,
   "metadata": {},
   "outputs": [],
   "source": [
    "#import libraries\n",
    "import pandas as pd\n",
    "import numpy as np\n",
    "import matplotlib.pyplot as plt\n",
    "from datetime import datetime\n",
    "import seaborn as sns\n",
    "sns.set()"
   ]
  },
  {
   "cell_type": "markdown",
   "metadata": {},
   "source": [
    "<h2>Moore’s law</h2>\n",
    "\n",
    "Moore's law is the observation that the number of transistors in a dense integrated circuit doubles about every two years.\n",
    "\n",
    "Use the scripts from: https://github.com/preshing/analyze-spec-benchmarks to download a large amount of data relating to CPU specs. The script might take as long as an hour, depending on your connection speed.\n",
    "\n",
    "This will save the data in the following format:\n",
    "\n",
    "testID,benchName,base,peak\n",
    "\n",
    "cpu95-19990104-03254,101.tomcatv,19.4,27.1\n",
    "\n",
    "cpu95-19990104-03254,102.swim,27.2,34.8\n",
    "\n",
    "cpu95-19990104-03254,103.su2cor,10.1,9.98\n",
    "\n",
    "cpu95-19990104-03254,104.hydro2d,8.58,8.61\n",
    "\n",
    "Now do the following:\n",
    "\n",
    "- Extract the date and base speed for a benchmark of your choice\n",
    "\n",
    "- Plot the data in a semi-log plot\n",
    "\n",
    "- Now train a linear model to fit your plot\n",
    "\n",
    "- How well is Moore’s law holding up?\n"
   ]
  },
  {
   "cell_type": "code",
   "execution_count": 226,
   "metadata": {},
   "outputs": [
    {
     "data": {
      "text/html": [
       "<div>\n",
       "<style scoped>\n",
       "    .dataframe tbody tr th:only-of-type {\n",
       "        vertical-align: middle;\n",
       "    }\n",
       "\n",
       "    .dataframe tbody tr th {\n",
       "        vertical-align: top;\n",
       "    }\n",
       "\n",
       "    .dataframe thead th {\n",
       "        text-align: right;\n",
       "    }\n",
       "</style>\n",
       "<table border=\"1\" class=\"dataframe\">\n",
       "  <thead>\n",
       "    <tr style=\"text-align: right;\">\n",
       "      <th></th>\n",
       "      <th>testID</th>\n",
       "      <th>benchName</th>\n",
       "      <th>base</th>\n",
       "      <th>peak</th>\n",
       "    </tr>\n",
       "  </thead>\n",
       "  <tbody>\n",
       "    <tr>\n",
       "      <th>0</th>\n",
       "      <td>cpu95-19990104-03254</td>\n",
       "      <td>101.tomcatv</td>\n",
       "      <td>19.4</td>\n",
       "      <td>27.1</td>\n",
       "    </tr>\n",
       "    <tr>\n",
       "      <th>1</th>\n",
       "      <td>cpu95-19990104-03254</td>\n",
       "      <td>102.swim</td>\n",
       "      <td>27.2</td>\n",
       "      <td>34.8</td>\n",
       "    </tr>\n",
       "    <tr>\n",
       "      <th>2</th>\n",
       "      <td>cpu95-19990104-03254</td>\n",
       "      <td>103.su2cor</td>\n",
       "      <td>10.1</td>\n",
       "      <td>9.98</td>\n",
       "    </tr>\n",
       "    <tr>\n",
       "      <th>3</th>\n",
       "      <td>cpu95-19990104-03254</td>\n",
       "      <td>104.hydro2d</td>\n",
       "      <td>8.58</td>\n",
       "      <td>8.61</td>\n",
       "    </tr>\n",
       "    <tr>\n",
       "      <th>4</th>\n",
       "      <td>cpu95-19990104-03254</td>\n",
       "      <td>107.mgrid</td>\n",
       "      <td>8.94</td>\n",
       "      <td>9.44</td>\n",
       "    </tr>\n",
       "  </tbody>\n",
       "</table>\n",
       "</div>"
      ],
      "text/plain": [
       "                 testID    benchName  base  peak\n",
       "0  cpu95-19990104-03254  101.tomcatv  19.4  27.1\n",
       "1  cpu95-19990104-03254     102.swim  27.2  34.8\n",
       "2  cpu95-19990104-03254   103.su2cor  10.1  9.98\n",
       "3  cpu95-19990104-03254  104.hydro2d  8.58  8.61\n",
       "4  cpu95-19990104-03254    107.mgrid  8.94  9.44"
      ]
     },
     "execution_count": 226,
     "metadata": {},
     "output_type": "execute_result"
    }
   ],
   "source": [
    "#import the data\n",
    "df = pd.read_csv('spec-data/benchmarks.txt',dtype='unicode')\n",
    "df.head()"
   ]
  },
  {
   "cell_type": "code",
   "execution_count": 227,
   "metadata": {},
   "outputs": [
    {
     "name": "stdout",
     "output_type": "stream",
     "text": [
      "Benchmark chosen: 101.tomcatv\n",
      "original length of dataset: 575. After dropping invalid testIDs: 542\n"
     ]
    }
   ],
   "source": [
    "#preprocess the data\n",
    "#function to calculate difference in days between two dates\n",
    "def days_between(d1, d2):\n",
    "    d1 = datetime.strptime(d1, \"%Y-%m-%d\")\n",
    "    d2 = datetime.strptime(d2, \"%Y-%m-%d\")\n",
    "    return abs((d2 - d1).days)\n",
    "\n",
    "benchmark = df['benchName'].unique()[0] #101.tomcattv\n",
    "print(f\"Benchmark chosen: {benchmark}\")\n",
    "\n",
    "#extract date from test ID\n",
    "new_df = df[(df['benchName'] == benchmark) & (df['testID'].str.startswith('cpu'))][['testID','base']]\n",
    "\n",
    "#compare lengths\n",
    "print(f\"original length of dataset: {len(df[(df['benchName'] == benchmark)])}. After dropping invalid testIDs: {len(new_df)}\")\n",
    "\n",
    "new_df['testID'] = new_df['testID'].str[6:-6]\n",
    "new_df['testID'] = pd.to_datetime(new_df['testID'])\n",
    "\n",
    "#convert date to days, where day 0 is the first date logged\n",
    "new_df['testID'] = new_df['testID'].map(lambda testID : ((testID - min(new_df['testID'])).days))\n",
    "\n",
    "#convert base time to log\n",
    "new_df['base'] = new_df['base'].astype(float)\n",
    "new_df['logbase'] = np.log(new_df['base'])\n"
   ]
  },
  {
   "cell_type": "code",
   "execution_count": 230,
   "metadata": {},
   "outputs": [
    {
     "data": {
      "text/plain": [
       "Text(0.5,1,'Log Base Speed of 101.tomcatv over time')"
      ]
     },
     "execution_count": 230,
     "metadata": {},
     "output_type": "execute_result"
    },
    {
     "data": {
      "image/png": "[encoded data removed]",
      "text/plain": [
       "<Figure size 1008x576 with 1 Axes>"
      ]
     },
     "metadata": {},
     "output_type": "display_data"
    }
   ],
   "source": [
    "plt.figure(figsize=(14,8))\n",
    "plt.scatter(new_df['testID'], new_df['logbase'],marker='o')\n",
    "plt.xlabel(\"Days\")\n",
    "plt.ylabel(\"Log Base Speed\")\n",
    "plt.title(f\"Log Base Speed of {benchmark} over time\",size=15)"
   ]
  },
  {
   "cell_type": "code",
   "execution_count": 238,
   "metadata": {},
   "outputs": [
    {
     "data": {
      "text/plain": [
       "((433, 1), (109, 1), (433, 1), (109, 1))"
      ]
     },
     "execution_count": 238,
     "metadata": {},
     "output_type": "execute_result"
    }
   ],
   "source": [
    "from sklearn import linear_model\n",
    "from sklearn.metrics import mean_squared_error, r2_score\n",
    "from sklearn.model_selection import train_test_split\n",
    "\n",
    "#split the dataset into training and testing data\n",
    "x_train,x_test,y_train,y_test = train_test_split(new_df['testID'],new_df['logbase'],test_size=0.2)\n",
    "\n",
    "#reshape datasets\n",
    "x_train,x_test,y_train,y_test = np.array(x_train).reshape(-1,1),np.array(x_test).reshape(-1,1),np.array(y_train).reshape(-1,1),np.array(y_test).reshape(-1,1)\n",
    "\n",
    "#check the dimensions of the datasets\n",
    "x_train.shape,x_test.shape,y_train.shape,y_test.shape\n"
   ]
  },
  {
   "cell_type": "code",
   "execution_count": 239,
   "metadata": {},
   "outputs": [],
   "source": [
    "# Create linear regression object\n",
    "regr = linear_model.LinearRegression()\n",
    "\n",
    "# Train the model using the training sets\n",
    "lm = regr.fit(x_train, y_train)\n",
    "\n",
    "# Make predictions using the testing set\n",
    "y_pred = lm.predict(x_test)"
   ]
  },
  {
   "cell_type": "code",
   "execution_count": 246,
   "metadata": {},
   "outputs": [
    {
     "name": "stdout",
     "output_type": "stream",
     "text": [
      "Coefficients: [[0.00123973]]\n",
      "Mean squared error: 0.54\n",
      "R^2 score: 0.35\n"
     ]
    },
    {
     "data": {
      "text/plain": [
       "[<matplotlib.lines.Line2D at 0x1a1ece3eb8>]"
      ]
     },
     "execution_count": 246,
     "metadata": {},
     "output_type": "execute_result"
    },
    {
     "data": {
      "image/png": "[encoded data removed]",
      "text/plain": [
       "<Figure size 1008x576 with 1 Axes>"
      ]
     },
     "metadata": {},
     "output_type": "display_data"
    }
   ],
   "source": [
    "# The coefficients\n",
    "print('Coefficients:', regr.coef_)\n",
    "# The mean squared error\n",
    "print(\"Mean squared error: %.2f\" % mean_squared_error(y_test, y_pred))\n",
    "# Explained variance score: 1 is perfect prediction\n",
    "print('R^2 score: %.2f' % r2_score(y_test, y_pred))\n",
    "\n",
    "# Plot outputs\n",
    "plt.figure(figsize=(14,8))\n",
    "plt.xlabel(\"Days\")\n",
    "plt.ylabel(\"Log Base Speed\")\n",
    "plt.title(f\"Regression model of Log Base Speed of {benchmark} over time\",size=15)\n",
    "plt.scatter(x_test, y_test)\n",
    "plt.plot(x_test, y_pred, color='coral', linewidth=3)"
   ]
  },
  {
   "cell_type": "code",
   "execution_count": 249,
   "metadata": {},
   "outputs": [
    {
     "name": "stdout",
     "output_type": "stream",
     "text": [
      "Ratio of year 2 to year 0: [1.41694778]\n",
      "\n",
      "Ratio of year 4 to year 2: [1.29425769]\n",
      "\n",
      "Ratio of year 6 to year 4: [1.22735634]\n",
      "\n",
      "Ratio of year 8 to year 6: [1.18524069]\n",
      "\n",
      "Ratio of year 10 to year 8: [1.15628951]\n",
      "\n",
      "Ratio of year 12 to year 10: [1.13516469]\n",
      "\n",
      "Ratio of year 14 to year 12: [1.11907056]\n",
      "\n",
      "Ratio of year 16 to year 14: [1.10640129]\n",
      "\n",
      "Ratio of year 18 to year 16: [1.09616881]\n",
      "\n",
      "Ratio of year 20 to year 18: [1.08773175]\n",
      "\n"
     ]
    }
   ],
   "source": [
    "#check if number of transistors doubles every 2 years (does the base speed double every 2 years?)\n",
    "\n",
    "#set the two years time period (the unit for time is in days)\n",
    "two_yrs = 365*2\n",
    "\n",
    "#check 10 units of two years\n",
    "check_moores_x = np.array([two_yrs*i for i in range(11)])\n",
    "\n",
    "#predict the log base speed \n",
    "check_moores_pred = lm.predict(check_moores_x.reshape(-1, 1))\n",
    "\n",
    "#check the log base speed ratio between each two years\n",
    "check_moores_ratio = [check_moores_pred[i+1]/check_moores_pred[i] for i in range(len(check_moores_pred)-1)]\n",
    "\n",
    "for i in range(len(check_moores_ratio)):\n",
    "    print(f'Ratio of year {(i+1)*2} to year {i*2}: {check_moores_ratio[i]}\\n')"
   ]
  },
  {
   "cell_type": "markdown",
   "metadata": {},
   "source": [
    "<h3>Conclusion</h3>\n",
    "\n",
    "From the results above, it looks like the log base speed is not doubling every 2 years. In fact, there are increasingly smaller increments in speed as the years go by. It should be noted that these results are derived from training a linear regression model on a specific subsetted dataset (benchName == tomcattv) with 542 data points, so the results may not be generalizable to other dense integrated circuits."
   ]
  },
  {
   "cell_type": "markdown",
   "metadata": {},
   "source": [
    "<h2>Digit Recognition</h2>\n",
    "\n",
    "No machine learning course would be complete without using the MNIST dataset. This dataset was a hugely influential dataset of handwritten digits (0-9).\n",
    "\n",
    "Using load_digits from sklearn, a copy of the test set of the UCI ML hand-written digits datasets can be loaded to train a model to recognize handwritten digits. http://scikit-learn.org/stable/modules/generated/sklearn.datasets.load_digits.html#sklearn.datasets.load_digits).\n",
    "\n",
    "- Plot some of the examples.\n",
    "\n",
    "- Choose two digit classes (e.g 7s and 3s) , and train a k-nearest neighbor classifier.\n",
    "\n",
    "- Report your error rates on a held out part of the data.\n",
    "\n",
    "- (Optional) Test your model on the full MNIST dataset (available from http://yann.lecun.com/exdb/mnist/)"
   ]
  },
  {
   "cell_type": "markdown",
   "metadata": {},
   "source": [
    "<h3>Part 1: Training and Testing a KNN Model using UCI ML Digit Dataset</h3>\n",
    "\n",
    "First, we separate the UCI ML dataset into a training and testing set. There are about <b>1800 data points</b> in this dataset, and <b>64 features (8 x 8 pixel size)</b>. A KNN classifier is trained on the training set, and the model scores are reported for the testing set. We train the model on only two digits, in this case: <b>2</b> and <b>7</b>."
   ]
  },
  {
   "cell_type": "code",
   "execution_count": 196,
   "metadata": {},
   "outputs": [
    {
     "name": "stdout",
     "output_type": "stream",
     "text": [
      "Size of UCI ML digit dataset: (1797, 64)\n"
     ]
    },
    {
     "data": {
      "image/png": "[encoded data removed]",
      "text/plain": [
       "<Figure size 432x288 with 8 Axes>"
      ]
     },
     "metadata": {},
     "output_type": "display_data"
    }
   ],
   "source": [
    "from sklearn.datasets import load_digits\n",
    "from sklearn.neighbors import KNeighborsClassifier\n",
    "from sklearn.metrics import classification_report,accuracy_score\n",
    "\n",
    "digits = load_digits()\n",
    "print(f\"Size of UCI ML digit dataset: {digits.data.shape}\")\n",
    "\n",
    "images_and_labels = list(zip(digits.images, digits.target))\n",
    "for index, (image, label) in enumerate(images_and_labels[:8]):\n",
    "    plt.subplot(2, 4, index + 1)\n",
    "    plt.axis('off')\n",
    "    plt.imshow(image, cmap=plt.cm.gray_r, interpolation='nearest')\n",
    "    plt.title('Training: %i' % label)\n",
    "\n",
    "data, target = digits.data, digits.target\n",
    "\n",
    "#filter out only 2 and 7 to be used for training\n",
    "two_filter = np.where((target == 2 ) | (target == 7))\n",
    "data, target = data[two_filter], target[two_filter]"
   ]
  },
  {
   "cell_type": "code",
   "execution_count": 197,
   "metadata": {},
   "outputs": [
    {
     "data": {
      "text/plain": [
       "((284, 64), (72, 64), (284,), (72,))"
      ]
     },
     "execution_count": 197,
     "metadata": {},
     "output_type": "execute_result"
    }
   ],
   "source": [
    "#split the dataset into training and testing data\n",
    "x_train,x_test,y_train,y_test = train_test_split(data,target,test_size=0.2)\n",
    "\n",
    "#check the dimensions of the datasets\n",
    "x_train.shape,x_test.shape,y_train.shape,y_test.shape"
   ]
  },
  {
   "cell_type": "code",
   "execution_count": 200,
   "metadata": {},
   "outputs": [
    {
     "name": "stdout",
     "output_type": "stream",
     "text": [
      "KNN Classifier with K-value: 1\n",
      "Accuracy score:  1.0\n",
      "             precision    recall  f1-score   support\n",
      "\n",
      "          2       1.00      1.00      1.00        33\n",
      "          7       1.00      1.00      1.00        39\n",
      "\n",
      "avg / total       1.00      1.00      1.00        72\n",
      " \n",
      "\n",
      "KNN Classifier with K-value: 5\n",
      "Accuracy score:  1.0\n",
      "             precision    recall  f1-score   support\n",
      "\n",
      "          2       1.00      1.00      1.00        33\n",
      "          7       1.00      1.00      1.00        39\n",
      "\n",
      "avg / total       1.00      1.00      1.00        72\n",
      " \n",
      "\n",
      "KNN Classifier with K-value: 15\n",
      "Accuracy score:  1.0\n",
      "             precision    recall  f1-score   support\n",
      "\n",
      "          2       1.00      1.00      1.00        33\n",
      "          7       1.00      1.00      1.00        39\n",
      "\n",
      "avg / total       1.00      1.00      1.00        72\n",
      " \n",
      "\n"
     ]
    }
   ],
   "source": [
    "#referenced from https://towardsdatascience.com/building-improving-a-k-nearest-neighbors-algorithm-in-python-3b6b5320d2f8\n",
    "    \n",
    "def skl_knn(k, test_data, test_target, train_data, train_target):\n",
    "    \"\"\"\n",
    "    k: number of neighbors to use in classication\n",
    "    test_data: the data/targets used to test the classifier\n",
    "    train_data: the data/targets used to train the classifier\n",
    "    \"\"\"\n",
    "    #create KNN classifier object\n",
    "    knn = KNeighborsClassifier(n_neighbors=k)  \n",
    "    #train the model\n",
    "    model = knn.fit(train_data, train_target)\n",
    "    #make predictions\n",
    "    y_pred = knn.predict(test_data) \n",
    "    \n",
    "    print(f\"KNN Classifier with K-value: {k}\")\n",
    "    print(\"Accuracy score: \",accuracy_score(test_target, y_pred))\n",
    "    print(classification_report(test_target, y_pred),'\\n')\n",
    "    \n",
    "    \n",
    "skl_knn(1, x_test, y_test, x_train, y_train)\n",
    "skl_knn(5, x_test, y_test, x_train, y_train)\n",
    "skl_knn(15, x_test, y_test, x_train, y_train)"
   ]
  },
  {
   "cell_type": "markdown",
   "metadata": {},
   "source": [
    "<h3>Summary</h3>\n",
    "\n",
    "From the classification report above, we see that after training a knn classifier using k-values of 1, 5, and 15 on the UCI ML training dataset, the classification of the digits 2 and 7 receive an accuracy, precision, and recall score 1.00 on the testing dataset. This means that the error rate is effectively 0.00 for the test set."
   ]
  },
  {
   "cell_type": "markdown",
   "metadata": {},
   "source": [
    "<h3>Part 2: Training and Testing a KNN Model using MNIST Dataset</h3>\n",
    "\n",
    "The KNN model trained and tested in Part 1 using the UCI ML dataset is now tested on the full MNIST dataset of <b>70,000 data points</b> with <b>784 features (28 x 28 pixel size)</b>. Once again, we only test for the classification of digits <b>2</b> and <b>7</b> (since the model was only trained on digits 2 and 7)."
   ]
  },
  {
   "cell_type": "code",
   "execution_count": 181,
   "metadata": {},
   "outputs": [
    {
     "name": "stdout",
     "output_type": "stream",
     "text": [
      "Success!\n"
     ]
    }
   ],
   "source": [
    "#import MNIST dataset\n",
    "from six.moves import urllib\n",
    "from sklearn.datasets import fetch_mldata\n",
    "\n",
    "from scipy.io import loadmat\n",
    "mnist_alternative_url = \"https://github.com/amplab/datascience-sp14/raw/master/lab7/mldata/mnist-original.mat\"\n",
    "mnist_path = \"./mnist-original.mat\"\n",
    "response = urllib.request.urlopen(mnist_alternative_url)\n",
    "with open(mnist_path, \"wb\") as f:\n",
    "    content = response.read()\n",
    "    f.write(content)\n",
    "mnist_raw = loadmat(mnist_path)\n",
    "mnist = {\n",
    "    \"data\": mnist_raw[\"data\"].T,\n",
    "    \"target\": mnist_raw[\"label\"][0],\n",
    "    \"COL_NAMES\": [\"label\", \"data\"],\n",
    "    \"DESCR\": \"mldata.org dataset: mnist-original\",\n",
    "}\n",
    "print(\"Success!\")"
   ]
  },
  {
   "cell_type": "code",
   "execution_count": 209,
   "metadata": {},
   "outputs": [
    {
     "name": "stdout",
     "output_type": "stream",
     "text": [
      "Size of MNIST digit dataset: (70000, 784)\n"
     ]
    },
    {
     "data": {
      "text/plain": [
       "{'data': array([[0, 0, 0, ..., 0, 0, 0],\n",
       "        [0, 0, 0, ..., 0, 0, 0],\n",
       "        [0, 0, 0, ..., 0, 0, 0],\n",
       "        ...,\n",
       "        [0, 0, 0, ..., 0, 0, 0],\n",
       "        [0, 0, 0, ..., 0, 0, 0],\n",
       "        [0, 0, 0, ..., 0, 0, 0]], dtype=uint8),\n",
       " 'target': array([0., 0., 0., ..., 9., 9., 9.]),\n",
       " 'COL_NAMES': ['label', 'data'],\n",
       " 'DESCR': 'mldata.org dataset: mnist-original'}"
      ]
     },
     "execution_count": 209,
     "metadata": {},
     "output_type": "execute_result"
    }
   ],
   "source": [
    "print(f\"Size of MNIST digit dataset: {mnist['data'].shape}\")\n",
    "\n",
    "#take a peak at the MNIST dataset structure\n",
    "mnist"
   ]
  },
  {
   "cell_type": "code",
   "execution_count": 217,
   "metadata": {},
   "outputs": [
    {
     "data": {
      "text/plain": [
       "((11426, 784), (2857, 784), (11426,), (2857,))"
      ]
     },
     "execution_count": 217,
     "metadata": {},
     "output_type": "execute_result"
    }
   ],
   "source": [
    "mnist_data, mnist_target = mnist['data'], mnist['target']\n",
    "\n",
    "#filter out only 2 and 7 to be used for training\n",
    "two_filter = np.where((mnist_target == 2 ) | (mnist_target == 7))\n",
    "mnist_data, mnist_target = mnist_data[two_filter], mnist_target[two_filter]\n",
    "\n",
    "#split the dataset into training and testing data\n",
    "mnist_x_train,mnist_x_test,mnist_y_train,mnist_y_test = train_test_split(mnist_data,mnist_target,test_size=0.2)\n",
    "\n",
    "#check the dimensions of the datasets\n",
    "mnist_x_train.shape,mnist_x_test.shape,mnist_y_train.shape,mnist_y_test.shape"
   ]
  },
  {
   "cell_type": "code",
   "execution_count": 219,
   "metadata": {},
   "outputs": [
    {
     "name": "stdout",
     "output_type": "stream",
     "text": [
      "KNN Classifier with K-value: 1\n",
      "Accuracy score:  0.9926496324816241\n",
      "             precision    recall  f1-score   support\n",
      "\n",
      "        2.0       1.00      0.99      0.99      1376\n",
      "        7.0       0.99      1.00      0.99      1481\n",
      "\n",
      "avg / total       0.99      0.99      0.99      2857\n",
      " \n",
      "\n",
      "KNN Classifier with K-value: 5\n",
      "Accuracy score:  0.9908995449772489\n",
      "             precision    recall  f1-score   support\n",
      "\n",
      "        2.0       1.00      0.98      0.99      1376\n",
      "        7.0       0.99      1.00      0.99      1481\n",
      "\n",
      "avg / total       0.99      0.99      0.99      2857\n",
      " \n",
      "\n",
      "KNN Classifier with K-value: 15\n",
      "Accuracy score:  0.9884494224711236\n",
      "             precision    recall  f1-score   support\n",
      "\n",
      "        2.0       1.00      0.98      0.99      1376\n",
      "        7.0       0.98      1.00      0.99      1481\n",
      "\n",
      "avg / total       0.99      0.99      0.99      2857\n",
      " \n",
      "\n"
     ]
    }
   ],
   "source": [
    "skl_knn(1, mnist_x_test, mnist_y_test, mnist_x_train, mnist_y_train)\n",
    "skl_knn(5, mnist_x_test, mnist_y_test, mnist_x_train, mnist_y_train)\n",
    "skl_knn(15, mnist_x_test, mnist_y_test, mnist_x_train, mnist_y_train)"
   ]
  },
  {
   "cell_type": "markdown",
   "metadata": {},
   "source": [
    "<h3>Summary</h3>\n",
    "\n",
    "From the classification report above, we see that for the MNIST dataset, using a k-value of 1 in the knn algorithm results in the highest accuracy score (0.993), followed by k-value 5 (0.991) and k-value 15 (0.988). By increasing the k-value, we are including more neighbors in the majority vote process of deciding on the final output. In this particular problem of classifying the digits of 2 and 7, more neighbors means more noise, which results in more incorrect predictions.\n",
    "\n",
    "In terms of precision and recall scores, 2 is classified with higher precision vs recall, while 7 is classified with higher recall vs precision. This means that for 2, not all positive samples are found, but the ones that are found are all correctly classified. For 7, all the positive samples are found, but not all are correctly classified.\n",
    "\n",
    "<h3>UCI ML Dataset Model vs MNIST Dataset Model</h3>\n",
    "\n",
    "From the results, it appears that the KNN model trained and tested on the UCI ML dataset returns a higher accuracy score and so lower error rate vs the KNN model trained and tested on the MNIST dataset.\n",
    "\n",
    "While these are two entirely different datasets and so should not be compared to each other, they share the similarity of being handwritten digit datasets, and being preprocessed using NIST preprocessing routines. The MNIST dataset has a larger image size (28 x 28 pixels) vs the UCI ML dataset (8 x 8 pixels), and many more data points as well (70,000 vs 1797). \n",
    "\n",
    "While there is more training data available for the MNIST dataset, there is also more variation and room for error (both in training the model and receiving the test score). The different preprocessing techniques might also have led to a \"cleaner\" dataset overall for UCI ML, which has the short-term benefit of returning higher scores for the UCI ML test set, but could lead to the long-term detriment of the model having high bias and underfitting on future data. \n",
    "\n",
    "In conclusion, I would prefer the MNIST-trained model over the UCIML-trained model since there were much more data points available for training and testing for the MNIST model, and the accuracy score is still relatively high, with an error rate that we would realistically expect from a human as well (some 2s and 7s could look really similar depending on the handwriting). In order to truly compare the capabilities of the two models, they would have to be tested on the same new, unseen dataset of handwritten digits. \n",
    "\n",
    "However, it should still be noted that the UCIML-model needs an input of 8 x 8 pixels (64 features) while the MNIST-model needs an input of 28 x 28 pixels (784 features); different digit images might have different levels of clarity and contrast based on their original size vs after compression to the appropriate input size.\n",
    "\n",
    "References:\n",
    "\n",
    "http://archive.ics.uci.edu/ml/datasets/Optical+Recognition+of+Handwritten+Digits\n",
    "\n",
    "http://yann.lecun.com/exdb/mnist/"
   ]
  },
  {
   "cell_type": "markdown",
   "metadata": {},
   "source": [
    "<h3>Explanation of Classification Report</h3>\n",
    "\n",
    "<b>Precision</b>\n",
    "- The precision is the ratio tp / (tp + fp) where tp is the number of true positives and fp the number of false positives. The precision is intuitively the ability of the classifier not to label as positive a sample that is negative.\n",
    "\n",
    "<b>Recall</b>\n",
    "- The recall is the ratio tp / (tp + fn) where tp is the number of true positives and fn the number of false negatives. The recall is intuitively the ability of the classifier to find all the positive samples.\n",
    "\n",
    "<b>f1-score</b>\n",
    "- The F-beta score can be interpreted as a weighted harmonic mean of the precision and recall, where an F-beta score reaches its best value at 1 and worst score at 0.\n",
    "\n",
    "- The F-beta score weights recall more than precision by a factor of beta. beta == 1.0 means recall and precision are equally important.\n",
    "\n",
    "<b>support</b>\n",
    "- The support is the number of occurrences of each class in y_true.\n",
    "\n",
    "References:\n",
    "\n",
    "https://scikit-learn.org/stable/modules/generated/sklearn.metrics.precision_recall_fscore_support.html"
   ]
  },
  {
   "cell_type": "markdown",
   "metadata": {},
   "source": [
    "<h2>Textbook Questions</h2>\n",
    "\n",
    "<h3>Exercise 1.14. </h3>\n",
    "\n",
    "A redistribution lottery involves picking the correct four numbers from 1 to 9 (without\n",
    "replacement, so 3,4,4,1 for example is not possible). The order of the picked numbers is irrelevant. Every\n",
    "week a million people play this game, each paying £1 to enter, with the numbers 3,5,7,9 being the most\n",
    "popular (1 in every 100 people chooses these numbers). Given that the million pounds prize money is split\n",
    "equally between winners, and that any four (different) numbers come up at random, what is the expected\n",
    "amount of money each of the players choosing 3,5,7,9 will win each week? The least popular set of numbers\n",
    "is 1,2,3,4 with only 1 in 10,000 people choosing this. How much do they profit each week, on average? Do\n",
    "you think there is any ‘skill’ involved in playing this lottery?"
   ]
  },
  {
   "cell_type": "markdown",
   "metadata": {},
   "source": [
    "<h3>Solution</h3>\n",
    "\n",
    "$P($win | choose any 4 numbers without replacement$)$ = $\\frac{1}{9C4} = \\frac{1}{126}$\n",
    "\n",
    "$U($win | number set$)$ = $U($reward money$) \\div$ (number of people who chose number set)\n",
    "\n",
    "$EU($win | $3579)$ = $P($win | $3579) \\times U($win | $3579) = \\frac{1}{126} \\times 1000000 \\div \\frac{1000000}{100}$ = 0.79\n",
    "\n",
    "$EU($win | $1234)$ = $P($win | $1234) \\times U($win | $1234) = \\frac{1}{126} \\times 1000000 \\div \\frac{1000000}{10000}$ = 79.37\n",
    "\n",
    "The expected amount of money each of the players choosing 3,5,7,9 will win each week is only £0.79, while the expected amount of money each of the players choosing 1,2,3,4 will win each week is £79.37.\n",
    "\n",
    "I don't think there is any 'skill' involved in playing this lottery, but there is an element of strategy. Since each 4-number set has equal probability of being chosen each week, one should strategize to choose the least favored set since it has to be shared among the least amount of people, and so has the highest expected utility. The tricky part is figuring out which 4-number set will be the least popular.\n",
    "\n",
    "If one could figure out the probability of each 4-number set being chosen by the general population, then one could strategically aim to choose the 4-number set with the lowest probability of being chosen. However, I still consider this a strategy and not a skill since theoretically speaking, anyone with access to these probabilities could implement the strategy as well without practice. The only skill involved might be data-gathering or calculating probabilities."
   ]
  },
  {
   "cell_type": "markdown",
   "metadata": {},
   "source": [
    "<h3>Exercise 13.5. </h3>\n",
    "\n",
    "WowCo.com is a new startup prediction company. After years of failures, they eventually\n",
    "find a neural network with a trillion hidden units that achieves zero test error on every learning problem\n",
    "posted on the internet up to last week. Each learning problem included a train and test set. Proud of their\n",
    "achievement, they market their product aggressively with the claim that it ‘predicts perfectly on all known\n",
    "problems’. Discuss whether or not these claims would justify buying this product.\n",
    "\n",
    "<h3>Solution</h3>\n",
    "\n",
    "1) I would need to know their methodology. Although each learning problem included a train and test set, did they only train on the training set, or did they train on the test set as well until 0 error was achieved?\n",
    "\n",
    "2) I would need to know the complexity of the learning problems. Achieving a 0 test error on high-dimensional, complex problems with a varied set of features would be much more difficult vs achieving a 0 test error on low-dimensional, simple problems. The harder the predictive question being answered by the problem, the more impressive the startup's algorithm is.\n",
    "\n",
    "3) I think a difficult aspect of prediction problems is feature engineering - deciding on the features needed to inform a particular prediction would mean collecting different types of data. While one could argue that collecting more data will always lead to an improved prediction model, there are practical budgets and limitations to consider in the data collection process, alongside a potential risk of overfitting. If the learning problems consist of ideal datasets with pre-filtered \"relevant\" features, then they do not accurately represent the inherent noise that accompanies real world data.\n",
    "\n",
    "4) The zero error rate might indicate that the training and testing datasets in the learning problems were idealistically \"clean\". Data in the real world can often be irregular, inconsistent, or vague, and so a minimum amount of error is expected to represent the inconsistent behavior of natural phenomena around us as well.\n",
    "\n",
    "5) I would also argue that being able to \"predict perfectly on all known problems\" is not a sufficiently strong reason to buy their product. Oftentimes, a company or business can identify their challenges and goals, but do not know what they need to predict for or predict on in order to resolve these challenges and/or achieve these goals. If the company/businessowner already knows the answers that they want predicted, and have all the data ready for training and prediction, then perhaps purchasing the product would be justified. Otherwise, I would imagine that the hard part is figuring out what the predictive problem is first, and what data needs to be collected to solve it."
   ]
  },
  {
   "cell_type": "markdown",
   "metadata": {},
   "source": [
    "<h3>Appendix</h3>\n",
    "\n",
    "<h4>HCs</h4>\n",
    "\n",
    "<b>#regression:</b> I trained a simple linear regression model to predict the base speed of a given CPU benchmark based on the number of days passed since day 0, where day 0 is the first date recorded for the given CPU benchmark. I then used this predictive linear model to verify Moore's Law (it doesn't hold up). I also point out the limitations of my regression model, the key one being that it was only trained on a specific benchmark and on a limited amount of data, and so may not be representative of the general case.\n",
    "\n",
    "<b>#expectedutility:</b> In Exercise 1.14, I calculated the expected financial utility of choosing the different sets of numbers, and took into account the probability of winning, the reward money, and the number of people that the money has to be shared with in constructing my expected utility function. While expected utility in general is a subjective concept and so would involve value assigned based on individual preference, we can make a simplification in this lottery case that the expected utility of reward money would be the same for most individuals who bought a lottery ticket, i.e. the level of risk involved is roughly the same among the participants.\n",
    "\n",
    "<h4>Code Source</h4>\n",
    "\n",
    "Code available at: \n",
    "https://github.com/hueyning/cs156-ml/blob/master/CS156%20Session%201.2%20-%20Basic%20classification%20and%20regression/CS156%20Session%201.2%20-%20Basic%20classification%20and%20regression.ipynb"
   ]
  }
 ],
 "metadata": {
  "kernelspec": {
   "display_name": "Python 3",
   "language": "python",
   "name": "python3"
  },
  "language_info": {
   "codemirror_mode": {
    "name": "ipython",
    "version": 3
   },
   "file_extension": ".py",
   "mimetype": "text/x-python",
   "name": "python",
   "nbconvert_exporter": "python",
   "pygments_lexer": "ipython3",
   "version": "3.6.5"
  }
 },
 "nbformat": 4,
 "nbformat_minor": 2
}
