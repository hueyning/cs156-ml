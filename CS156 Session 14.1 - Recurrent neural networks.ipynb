{
 "cells": [
  {
   "cell_type": "markdown",
   "metadata": {},
   "source": [
    "<h2>Implement a Hopfield Network, and perform the basic analysis below.</h2>\n",
    "\n",
    "<h3>1 . Store</h3>\n",
    "\n",
    "Implement a python function which is able to store a memory in a Hopfield network.\n",
    "\n",
    "<h3>2 . Recall</h3>\n",
    "\n",
    "Implement a python function which runs the recall algorithm for an initial (corrupted) memory. Make sure to include a stopping criteria\n",
    "\n",
    "<h3>3 . Capacity</h3>\n",
    "\n",
    "Write a function to determine the capacity for a Hopfield network of a given size. This function should have a size parameter, and then initialize an empty Hopfield network. It must then store a random memory and test whether the network is able to recall the correct memory if given a pattern corrupted by a single bit. The function must then return the largest number of memories that were stored and successfully recalled.\n",
    "\n",
    "<h3>4 . Scaling behavior</h3>\n",
    "\n",
    "Produce a plot showing capacity as a function of network size. What is the scaling behavior?\n",
    "\n",
    "<h3>5 . (Optional) Asynchronous updates</h3>\n",
    "\n",
    "Change your implementation, so that the state is updated asynchronously. Find a state that didn’t converge in your original implementation, and show that it does converge in your new implementation."
   ]
  },
  {
   "cell_type": "code",
   "execution_count": null,
   "metadata": {},
   "outputs": [],
   "source": [
    "from numpy import zeros, outer, diag_indices, vectorize, dot\n",
    "\n",
    "def train(patterns):\n",
    "    r,c = patterns.shape\n",
    "    W = zeros((c,c))\n",
    "    for p in patterns:\n",
    "        W = W + outer(p,p)\n",
    "    W[diag_indices(c)] = 0\n",
    "    return W/r\n",
    "\n",
    "def recall(W, patterns, steps=5):\n",
    "    sgn = vectorize(lambda x: -1 if x<0 else +1)\n",
    "    for _ in xrange(steps):        \n",
    "        patterns = sgn(dot(patterns,W))\n",
    "    return patterns\n"
   ]
  }
 ],
 "metadata": {
  "kernelspec": {
   "display_name": "Python 3",
   "language": "python",
   "name": "python3"
  },
  "language_info": {
   "codemirror_mode": {
    "name": "ipython",
    "version": 3
   },
   "file_extension": ".py",
   "mimetype": "text/x-python",
   "name": "python",
   "nbconvert_exporter": "python",
   "pygments_lexer": "ipython3",
   "version": "3.6.8"
  }
 },
 "nbformat": 4,
 "nbformat_minor": 2
}
