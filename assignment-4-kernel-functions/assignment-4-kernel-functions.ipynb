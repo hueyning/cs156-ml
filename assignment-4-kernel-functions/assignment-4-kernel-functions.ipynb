{
 "cells": [
  {
   "cell_type": "markdown",
   "metadata": {},
   "source": [
    "<h2>MNIST Digits - Kernel Functions</h2>\n",
    "\n",
    "1. Load the entire MNIST digit dataset: [http://yann.lecun.com/exdb/mnist/](http://yann.lecun.com/exdb/mnist/ \"http://yann.lecun.com/exdb/mnist/\"%29.\n",
    "\n",
    "2. Choose two digit classes (e.g 7s and 3s) from the training data, and plot some of the examples.\n",
    "\n",
    "3. Train a support vector classifier using each of the following kernels:\n",
    "\n",
    "    - Linear\n",
    "    - Poly\n",
    "    - RBF\n",
    "    \n",
    "\n",
    "4. Report your training times on the dataset for the different kernels.\n",
    "\n",
    "5. Report your error rates on the testing dataset for the different kernels.\n",
    "\n",
    "    (If you encounter any issues with training time or memory issues, then you may use a reduced dataset, but carefully detail how you reduced the dataset.)"
   ]
  },
  {
   "cell_type": "markdown",
   "metadata": {},
   "source": [
    "<h2>Part 1: Importing and Preprocessing the MNIST Data</h2>\n",
    "\n",
    "\n",
    "The full MNIST digit dataset is downloaded from the following github repo: \n",
    "\n",
    "https://github.com/amplab/datascience-sp14/tree/master/lab7/mldata\n",
    "\n",
    "I used the following code as reference to import the full MNIST dataset into my notebook:\n",
    "\n",
    "https://github.com/ageron/handson-ml/issues/143#issuecomment-403342358\n",
    "\n",
    "After processing the raw MNIST dataset (in \".mat\" format), the output is a dictionary of arrays, where the keys \"data\" and \"target\" correspond to matrices of the digit images and the digit labels respectively. \n",
    "\n",
    "There are 70,000 digit images in the dataset, and each digit image has 784 features (corresponding to 784 pixels, i.e. 28 x 28 image size). The numbers \"7\" and \"2\" are filtered out for training and testing the SVC model in Part 2."
   ]
  },
  {
   "cell_type": "code",
   "execution_count": 1,
   "metadata": {},
   "outputs": [],
   "source": [
    "#import libraries\n",
    "import numpy as np\n",
    "import pandas as pd\n",
    "import time\n",
    "import matplotlib.pyplot as plt\n",
    "%matplotlib inline\n",
    "import seaborn as sns\n",
    "sns.set()"
   ]
  },
  {
   "cell_type": "code",
   "execution_count": 2,
   "metadata": {},
   "outputs": [
    {
     "name": "stdout",
     "output_type": "stream",
     "text": [
      "Success!\n"
     ]
    }
   ],
   "source": [
    "#import MNIST dataset\n",
    "from six.moves import urllib\n",
    "from sklearn.datasets import fetch_mldata\n",
    "\n",
    "from scipy.io import loadmat\n",
    "mnist_alternative_url = \"https://github.com/amplab/datascience-sp14/raw/master/lab7/mldata/mnist-original.mat\"\n",
    "mnist_path = \"./mnist-original.mat\"\n",
    "response = urllib.request.urlopen(mnist_alternative_url)\n",
    "with open(mnist_path, \"wb\") as f:\n",
    "    content = response.read()\n",
    "    f.write(content)\n",
    "mnist_raw = loadmat(mnist_path)\n",
    "mnist = {\n",
    "    \"data\": mnist_raw[\"data\"].T,\n",
    "    \"target\": mnist_raw[\"label\"][0],\n",
    "    \"COL_NAMES\": [\"label\", \"data\"],\n",
    "    \"DESCR\": \"mldata.org dataset: mnist-original\",\n",
    "}\n",
    "print(\"Success!\")"
   ]
  },
  {
   "cell_type": "code",
   "execution_count": 3,
   "metadata": {},
   "outputs": [
    {
     "name": "stdout",
     "output_type": "stream",
     "text": [
      "Size of MNIST digit dataset: (70000, 784)\n"
     ]
    },
    {
     "data": {
      "text/plain": [
       "{'data': array([[0, 0, 0, ..., 0, 0, 0],\n",
       "        [0, 0, 0, ..., 0, 0, 0],\n",
       "        [0, 0, 0, ..., 0, 0, 0],\n",
       "        ...,\n",
       "        [0, 0, 0, ..., 0, 0, 0],\n",
       "        [0, 0, 0, ..., 0, 0, 0],\n",
       "        [0, 0, 0, ..., 0, 0, 0]], dtype=uint8),\n",
       " 'target': array([0., 0., 0., ..., 9., 9., 9.]),\n",
       " 'COL_NAMES': ['label', 'data'],\n",
       " 'DESCR': 'mldata.org dataset: mnist-original'}"
      ]
     },
     "execution_count": 3,
     "metadata": {},
     "output_type": "execute_result"
    }
   ],
   "source": [
    "print(f\"Size of MNIST digit dataset: {mnist['data'].shape}\")\n",
    "\n",
    "#take a peak at the MNIST dataset structure\n",
    "mnist"
   ]
  },
  {
   "cell_type": "code",
   "execution_count": 4,
   "metadata": {},
   "outputs": [
    {
     "name": "stdout",
     "output_type": "stream",
     "text": [
      "Seven\n"
     ]
    },
    {
     "data": {
      "image/png": "[encoded data removed]",
      "text/plain": [
       "<Figure size 432x288 with 10 Axes>"
      ]
     },
     "metadata": {},
     "output_type": "display_data"
    },
    {
     "name": "stdout",
     "output_type": "stream",
     "text": [
      "Two\n"
     ]
    },
    {
     "data": {
      "image/png": "[encoded data removed]",
      "text/plain": [
       "<Figure size 432x288 with 10 Axes>"
      ]
     },
     "metadata": {},
     "output_type": "display_data"
    }
   ],
   "source": [
    "mnist_data, mnist_target = mnist['data'], mnist['target']\n",
    "\n",
    "#filter out only 2 and 7 to be used for training\n",
    "number_filter = np.where((mnist_target == 2 ) | (mnist_target == 7))\n",
    "mnist_data, mnist_target = mnist_data[number_filter], mnist_target[number_filter]\n",
    "\n",
    "def plot_digits(title, data):\n",
    "    print(title)\n",
    "    for index,image in enumerate(data[:10]):\n",
    "        image = image.reshape(28,28)\n",
    "        plt.subplot(2, 5, index + 1)\n",
    "        plt.axis('off')\n",
    "        plt.imshow(image, cmap=plt.cm.gray, interpolation='nearest')\n",
    "    plt.show()\n",
    "    \n",
    "plot_digits('Seven',mnist_data[np.where(mnist_target == 7)])\n",
    "plot_digits('Two',mnist_data[np.where(mnist_target == 2)])\n",
    "    "
   ]
  },
  {
   "cell_type": "markdown",
   "metadata": {},
   "source": [
    "<h2>Part 2: Training and Testing the SVC Model</h2>\n",
    "\n",
    "The MNIST data is split with a train-test ratio of 7:3. The training dataset has 9998 data points, while the testing dataset has 4285 data points. The support vector classifier (SVC) from sklearn's support vector machine (SVM) module is trained and tested on the dataset using different kernel functions, e.g. \"linear\", \"poly\", and \"rbf\". The time taken for the training and testing procedures, and the training and testing accuracy of the different models are recorded and summarized below."
   ]
  },
  {
   "cell_type": "code",
   "execution_count": 5,
   "metadata": {},
   "outputs": [
    {
     "data": {
      "text/plain": [
       "((9998, 784), (4285, 784), (9998,), (4285,))"
      ]
     },
     "execution_count": 5,
     "metadata": {},
     "output_type": "execute_result"
    }
   ],
   "source": [
    "from sklearn.model_selection import train_test_split\n",
    "\n",
    "#split the dataset into training and testing data\n",
    "X_train,X_test,y_train,y_test = train_test_split(mnist_data,mnist_target,test_size=0.3)\n",
    "\n",
    "#check the dimensions of the datasets\n",
    "X_train.shape, X_test.shape, y_train.shape, y_test.shape"
   ]
  },
  {
   "cell_type": "code",
   "execution_count": 36,
   "metadata": {},
   "outputs": [],
   "source": [
    "def train_test_svm(svc, X_train, X_test, y_train, y_test, demo = False):\n",
    "    '''\n",
    "    Inputs: \n",
    "    - svc: Initialized svc instance.\n",
    "    - demo: Boolean. If set to True, will print out outputs when running.\n",
    "    \n",
    "    Outputs: \n",
    "    - train_time: CPU processing training time (s)\n",
    "    - test_time: CPU processing testing time (s)\n",
    "    - train_score: Model score on the training data\n",
    "    - test_score: Model score on the testing data\n",
    "    '''\n",
    "    \n",
    "    #train model\n",
    "    train_start = time.process_time()\n",
    "    \n",
    "    model = svc.fit(X_train, y_train) \n",
    "    \n",
    "    train_stop = time.process_time()\n",
    "    \n",
    "    #test model\n",
    "    test_start = time.process_time()\n",
    "    \n",
    "    train_score = model.score(X_train, y_train)\n",
    "    test_score = model.score(X_test, y_test)\n",
    "\n",
    "    test_stop = time.process_time()\n",
    "    \n",
    "    #get train time and test time\n",
    "    train_time = train_stop - train_start\n",
    "    test_time = test_stop - test_start\n",
    "    \n",
    "    if demo:\n",
    "        print(f'Train time')\n",
    "        print(f'CPU process time: {round(train_time,4)} s')\n",
    "\n",
    "        print(f'\\nTest time')\n",
    "        print(f'CPU process time: {round(test_time,4)} s')\n",
    "\n",
    "        print(f'Model score: {round(test_score,4)}')\n",
    "        \n",
    "    return train_time, test_time, train_score, test_score"
   ]
  },
  {
   "cell_type": "code",
   "execution_count": 37,
   "metadata": {},
   "outputs": [],
   "source": [
    "from sklearn.svm import SVC\n",
    "\n",
    "kernels = ['linear','poly','rbf']\n",
    "\n",
    "#create empty numpy array to store results\n",
    "results = np.zeros([len(kernels),5])\n",
    "\n",
    "#train and test SVCs with different kernels on MNIST data (2s and 7s)\n",
    "for i in range(len(kernels)):\n",
    "    \n",
    "    #initiate the SVC classifier\n",
    "    svc = SVC(kernel=kernels[i])\n",
    "    \n",
    "    #get the time taken for training & testing, and the model score\n",
    "    train_time, test_time, train_score, test_score = train_test_svm(svc, X_train, X_test, y_train, y_test)\n",
    "    \n",
    "    #store results\n",
    "    results[i,:] = i, round(train_time,4), round(test_time,4), round(train_score,4), round(test_score,4)\n"
   ]
  },
  {
   "cell_type": "code",
   "execution_count": 38,
   "metadata": {},
   "outputs": [
    {
     "data": {
      "text/html": [
       "<div>\n",
       "<style scoped>\n",
       "    .dataframe tbody tr th:only-of-type {\n",
       "        vertical-align: middle;\n",
       "    }\n",
       "\n",
       "    .dataframe tbody tr th {\n",
       "        vertical-align: top;\n",
       "    }\n",
       "\n",
       "    .dataframe thead th {\n",
       "        text-align: right;\n",
       "    }\n",
       "</style>\n",
       "<table border=\"1\" class=\"dataframe\">\n",
       "  <thead>\n",
       "    <tr style=\"text-align: right;\">\n",
       "      <th></th>\n",
       "      <th>Kernels</th>\n",
       "      <th>Training CPU Processing Time (s)</th>\n",
       "      <th>Testing CPU Processing Time (s)</th>\n",
       "      <th>Training score</th>\n",
       "      <th>Testing score</th>\n",
       "    </tr>\n",
       "  </thead>\n",
       "  <tbody>\n",
       "    <tr>\n",
       "      <th>0</th>\n",
       "      <td>linear</td>\n",
       "      <td>5.7346</td>\n",
       "      <td>3.8400</td>\n",
       "      <td>1.0</td>\n",
       "      <td>0.9755</td>\n",
       "    </tr>\n",
       "    <tr>\n",
       "      <th>1</th>\n",
       "      <td>poly</td>\n",
       "      <td>4.5878</td>\n",
       "      <td>5.9877</td>\n",
       "      <td>1.0</td>\n",
       "      <td>0.9937</td>\n",
       "    </tr>\n",
       "    <tr>\n",
       "      <th>2</th>\n",
       "      <td>rbf</td>\n",
       "      <td>148.0907</td>\n",
       "      <td>105.1719</td>\n",
       "      <td>1.0</td>\n",
       "      <td>0.5001</td>\n",
       "    </tr>\n",
       "  </tbody>\n",
       "</table>\n",
       "</div>"
      ],
      "text/plain": [
       "  Kernels  Training CPU Processing Time (s)  Testing CPU Processing Time (s)  \\\n",
       "0  linear                            5.7346                           3.8400   \n",
       "1    poly                            4.5878                           5.9877   \n",
       "2     rbf                          148.0907                         105.1719   \n",
       "\n",
       "   Training score  Testing score  \n",
       "0             1.0         0.9755  \n",
       "1             1.0         0.9937  \n",
       "2             1.0         0.5001  "
      ]
     },
     "execution_count": 38,
     "metadata": {},
     "output_type": "execute_result"
    }
   ],
   "source": [
    "df = pd.DataFrame(results, \n",
    "                  columns=['Kernels',\n",
    "                           'Training CPU Processing Time (s)',\n",
    "                           'Testing CPU Processing Time (s)',\n",
    "                           'Training score',\n",
    "                           'Testing score'])\n",
    "df['Kernels'] = kernels\n",
    "df"
   ]
  },
  {
   "cell_type": "code",
   "execution_count": 39,
   "metadata": {},
   "outputs": [
    {
     "data": {
      "image/png": "[encoded data removed]",
      "text/plain": [
       "<Figure size 1080x504 with 2 Axes>"
      ]
     },
     "metadata": {},
     "output_type": "display_data"
    }
   ],
   "source": [
    "plt.figure(figsize=(15,7))\n",
    "plt.subplot(1,2,1)\n",
    "plt.bar(df['Kernels'], df['Training CPU Processing Time (s)'], label='Train time', alpha=0.7, width=0.5)\n",
    "plt.bar(df['Kernels'], df['Testing CPU Processing Time (s)'], label='Test time', alpha=0.8, width=0.5)\n",
    "plt.xlabel('Kernel', size=15)\n",
    "plt.ylabel('CPU Processing Time (s)', size=15)\n",
    "plt.title('Bar plot of CPU processing time (s) across different kernels', size=15)\n",
    "plt.legend()\n",
    "\n",
    "plt.subplot(1,2,2)\n",
    "plt.bar(df['Kernels'], df['Testing score'], label='Test Scores', alpha=0.8, width=0.5)\n",
    "plt.xlabel('Kernel', size=15)\n",
    "plt.ylabel('Test Score', size=15)\n",
    "plt.title('Plot of Test Score across different kernels', size=15)\n",
    "plt.legend()\n",
    "plt.tight_layout()\n",
    "plt.show()"
   ]
  },
  {
   "cell_type": "markdown",
   "metadata": {},
   "source": [
    "<h2>Summary</h2>\n",
    "\n",
    "The results show that the the linear kernel had the fastest testing time (3.84 s) on 4285 data points, while the polynomial kernel had the fastest training time (4.58 s) on 9998 data points. Since the difference between the linear and polynomial training and testing times are small (1-2 seconds), we can assume that the linear and polynomial kernels had roughly the same time for both training and testing. The polynomial kernel has the best performance with a score of 0.99, followed by the linear kernel with a score of 0.97.\n",
    "\n",
    "The radial basis function (rbf) kernel has the longest training and testing times (148 s and 105 s), which are roughly 30 times larger than the linear and polynomial kernels' training and testing times. The rbf kernel also the worst performance. While all the kernels exhibit a training score of 1.0, the rbf kernel has a surprisingly low test score of 0.50. This suggests that the rbf kernel svc is probably overfitting on the training data, thus causing the model to have high variance, and exhibiting poor performance on the testing data. This makes sense considering that the rbf kernel is using a more complex transformation function then the linear and polynomial kernels."
   ]
  }
 ],
 "metadata": {
  "kernelspec": {
   "display_name": "Python 3",
   "language": "python",
   "name": "python3"
  },
  "language_info": {
   "codemirror_mode": {
    "name": "ipython",
    "version": 3
   },
   "file_extension": ".py",
   "mimetype": "text/x-python",
   "name": "python",
   "nbconvert_exporter": "python",
   "pygments_lexer": "ipython3",
   "version": "3.6.5"
  }
 },
 "nbformat": 4,
 "nbformat_minor": 2
}
