{
 "cells": [
  {
   "cell_type": "markdown",
   "metadata": {},
   "source": [
    "<h3>The Coin-flipping experiment:</h3>\n",
    "\n",
    "Read through the Coin-flipping example given by Do and Batzoglou (2008). In the coin flipping example, there are two coins with different biases in a bag. One coin is much more likely to come up with heads than the other. To create the data:\n",
    "\n",
    "- Reach into the bag and pull out a coin.\n",
    "- Flip that coin many times, and record both the number of heads and the number of throws.\n",
    "- Return the coin to the bag and repeat.\n",
    "\n",
    "Notice that we never find out the identity of the coin we are flipping, but we do try to infer it.\n",
    "\n",
    "Questions\n",
    "\n",
    "- Write down the probability distribution for such a model.\n",
    "- Write Python code to run the EM algorithm on such a data set.\n",
    "- Run your code on the following dataset and give your EM estimates for all the unknown parameters:\\ heads = [14, 33, 19, 10, 0, 17, 24, 17, 1, 36, 5, 6, 5, 13, 4, 35, 5, 5, 74, 34]\\ throws = [41, 43, 23, 23, 1, 23, 36, 37, 2, 131, 5, 29, 13, 47, 10, 58, 15, 14, 100, 113]\n",
    "- (Optional) There could be an optional bias parameter in this model, if it is much more likely to pick one coin. Update your model to also estimate the bias"
   ]
  },
  {
   "cell_type": "markdown",
   "metadata": {},
   "source": [
    "<h3>Probability distribution for one round of coin toss:</h3>\n",
    "\n",
    "Binomial distribution with mean probability p on n trials with h heads.\n",
    "\n",
    "$P(h) = {n\\choose h}p^h(1-p)^{n-h}$\n"
   ]
  },
  {
   "cell_type": "code",
   "execution_count": 88,
   "metadata": {},
   "outputs": [
    {
     "name": "stdout",
     "output_type": "stream",
     "text": [
      "0.69 0.33\n",
      "0.71 0.31\n",
      "0.71 0.31\n",
      "0.71 0.31\n",
      "0.71 0.31\n",
      "0.71 0.31\n",
      "0.71 0.31\n",
      "0.71 0.31\n",
      "0.71 0.31\n",
      "0.71 0.31\n"
     ]
    }
   ],
   "source": [
    "import numpy as np\n",
    "\n",
    "#python code to run EM algorithm on coin toss dataset\n",
    "\n",
    "\n",
    "def em_toincoss(pa,pb,heads,throws):\n",
    "\n",
    "    #calculate tails\n",
    "    tails = throws-heads\n",
    "\n",
    "    #find the probability of p_heads coming from each coin\n",
    "    likelihood_h_a = (pa**heads)*((1-pa)**(tails))\n",
    "    likelihood_h_b = (pb**heads)*((1-pb)**(tails))\n",
    "\n",
    "    #normalize the likelihoods\n",
    "    norm_constant = likelihood_h_a + likelihood_h_b\n",
    "    likelihood_h_a = likelihood_h_a/norm_constant\n",
    "    likelihood_h_b = likelihood_h_b/norm_constant\n",
    "    \n",
    "    #expected number of heads\n",
    "    expected_h_a = likelihood_h_a*heads\n",
    "    expected_h_b = likelihood_h_b*heads\n",
    "\n",
    "    #expected number of tails\n",
    "    expected_t_a = likelihood_h_a*tails\n",
    "    expected_t_b = likelihood_h_b*tails\n",
    "\n",
    "    #new parameters\n",
    "    new_pa = sum(expected_h_a)/(sum(expected_h_a)+sum(expected_t_a))\n",
    "    new_pb = sum(expected_h_b)/(sum(expected_h_b)+sum(expected_t_b))\n",
    "\n",
    "    return new_pa,new_pb\n",
    "\n",
    "\n",
    "#textbook data\n",
    "#heads = np.array([5,9,8,4,7])\n",
    "#throws = np.array([10,10,10,10,10])\n",
    "\n",
    "#new data\n",
    "heads = np.array([14, 33, 19, 10, 0, 17, 24, 17, 1, 36, 5, 6, 5, 13, 4, 35, 5, 5, 74, 34])\n",
    "throws = np.array([41, 43, 23, 23, 1, 23, 36, 37, 2, 131, 5, 29, 13, 47, 10, 58, 15, 14, 100, 113])\n",
    "\n",
    "#assign random parameters to coin a and b\n",
    "pa = 0.6\n",
    "pb = 0.5\n",
    "\n",
    "for i in range(10):\n",
    "    pa,pb = em_toincoss(pa,pb,heads,throws)\n",
    "    print(round(pa,2),round(pb,2))\n"
   ]
  },
  {
   "cell_type": "code",
   "execution_count": null,
   "metadata": {},
   "outputs": [],
   "source": []
  }
 ],
 "metadata": {
  "kernelspec": {
   "display_name": "Python 3",
   "language": "python",
   "name": "python3"
  },
  "language_info": {
   "codemirror_mode": {
    "name": "ipython",
    "version": 3
   },
   "file_extension": ".py",
   "mimetype": "text/x-python",
   "name": "python",
   "nbconvert_exporter": "python",
   "pygments_lexer": "ipython3",
   "version": "3.6.5"
  }
 },
 "nbformat": 4,
 "nbformat_minor": 2
}
