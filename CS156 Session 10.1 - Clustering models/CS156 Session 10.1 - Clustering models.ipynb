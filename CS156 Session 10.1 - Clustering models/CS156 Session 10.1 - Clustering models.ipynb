{
 "cells": [
  {
   "cell_type": "markdown",
   "metadata": {},
   "source": [
    "<h2>Fraud: A how-to guide</h2>\n",
    "\n",
    "In this problem, you will use density modeling to try and ensure that there are no statistical irregularities in data that you have generated yourself.\n",
    "\n",
    "1) Download the following data containing personal transactions over a period of several years: https://course-resources.minerva.kgi.edu/uploaded_files/mke/Y5GZpr/anonymized.csv\n",
    "\n",
    "2) Now build a density model for the number of transactions that occur in a single month.\n",
    "\n",
    "3) Create plots showing the distribution that you’ve created.\n",
    "\n",
    "4) Draw 10 samples from this density model using scikit.learn."
   ]
  },
  {
   "cell_type": "code",
   "execution_count": 2,
   "metadata": {},
   "outputs": [],
   "source": [
    "#import libraries\n",
    "import numpy as np\n",
    "import pandas as pd\n",
    "import matplotlib.pyplot as plt\n",
    "%matplotlib inline\n",
    "import seaborn as sns\n",
    "sns.set()"
   ]
  },
  {
   "cell_type": "code",
   "execution_count": 213,
   "metadata": {},
   "outputs": [
    {
     "data": {
      "text/html": [
       "<div>\n",
       "<style scoped>\n",
       "    .dataframe tbody tr th:only-of-type {\n",
       "        vertical-align: middle;\n",
       "    }\n",
       "\n",
       "    .dataframe tbody tr th {\n",
       "        vertical-align: top;\n",
       "    }\n",
       "\n",
       "    .dataframe thead th {\n",
       "        text-align: right;\n",
       "    }\n",
       "</style>\n",
       "<table border=\"1\" class=\"dataframe\">\n",
       "  <thead>\n",
       "    <tr style=\"text-align: right;\">\n",
       "      <th></th>\n",
       "      <th>Date</th>\n",
       "      <th>Amount</th>\n",
       "    </tr>\n",
       "  </thead>\n",
       "  <tbody>\n",
       "    <tr>\n",
       "      <th>0</th>\n",
       "      <td>2016-05-25</td>\n",
       "      <td>54241.35</td>\n",
       "    </tr>\n",
       "    <tr>\n",
       "      <th>1</th>\n",
       "      <td>2017-05-29</td>\n",
       "      <td>54008.83</td>\n",
       "    </tr>\n",
       "    <tr>\n",
       "      <th>2</th>\n",
       "      <td>2017-06-30</td>\n",
       "      <td>54008.82</td>\n",
       "    </tr>\n",
       "    <tr>\n",
       "      <th>3</th>\n",
       "      <td>2017-01-05</td>\n",
       "      <td>52704.37</td>\n",
       "    </tr>\n",
       "    <tr>\n",
       "      <th>4</th>\n",
       "      <td>2017-02-23</td>\n",
       "      <td>52704.36</td>\n",
       "    </tr>\n",
       "  </tbody>\n",
       "</table>\n",
       "</div>"
      ],
      "text/plain": [
       "        Date    Amount\n",
       "0 2016-05-25  54241.35\n",
       "1 2017-05-29  54008.83\n",
       "2 2017-06-30  54008.82\n",
       "3 2017-01-05  52704.37\n",
       "4 2017-02-23  52704.36"
      ]
     },
     "execution_count": 213,
     "metadata": {},
     "output_type": "execute_result"
    }
   ],
   "source": [
    "import matplotlib.dates as dates\n",
    "\n",
    "df = pd.read_csv(\"transactions.csv\")\n",
    "\n",
    "#convert date from string to datetime\n",
    "df['Date'] = pd.to_datetime(df['Date'],infer_datetime_format=True)\n",
    "#df['month_year'] = df.Date.dt.to_period('M')\n",
    "#peak\n",
    "df.head()"
   ]
  },
  {
   "cell_type": "code",
   "execution_count": 215,
   "metadata": {},
   "outputs": [
    {
     "data": {
      "text/plain": [
       "array([736109., 736478., 736510., ..., 736229., 736503., 735586.])"
      ]
     },
     "execution_count": 215,
     "metadata": {},
     "output_type": "execute_result"
    }
   ],
   "source": [
    "import matplotlib.dates as dates\n",
    "plt_dates = dates.date2num(df['Date'])\n",
    "plt_dates"
   ]
  },
  {
   "cell_type": "code",
   "execution_count": 235,
   "metadata": {},
   "outputs": [
    {
     "name": "stderr",
     "output_type": "stream",
     "text": [
      "/anaconda3/lib/python3.6/site-packages/matplotlib/axes/_axes.py:6462: UserWarning: The 'normed' kwarg is deprecated, and has been replaced by the 'density' kwarg.\n",
      "  warnings.warn(\"The 'normed' kwarg is deprecated, and has been \"\n"
     ]
    },
    {
     "data": {
      "image/png": "[encoded data removed]",
      "text/plain": [
       "<Figure size 432x288 with 1 Axes>"
      ]
     },
     "metadata": {},
     "output_type": "display_data"
    },
    {
     "name": "stderr",
     "output_type": "stream",
     "text": [
      "/anaconda3/lib/python3.6/site-packages/matplotlib/axes/_axes.py:6462: UserWarning: The 'normed' kwarg is deprecated, and has been replaced by the 'density' kwarg.\n",
      "  warnings.warn(\"The 'normed' kwarg is deprecated, and has been \"\n"
     ]
    },
    {
     "data": {
      "image/png": "[encoded data removed]",
      "text/plain": [
       "<Figure size 432x288 with 1 Axes>"
      ]
     },
     "metadata": {},
     "output_type": "display_data"
    }
   ],
   "source": [
    "from sklearn.neighbors.kde import KernelDensity\n",
    "\n",
    "#plot hist and density for original data\n",
    "X = np.array(plt_dates).reshape(-1, 1)\n",
    "sns.distplot(X, kde=0)\n",
    "plt.show()\n",
    "\n",
    "#plot hist and density for 1000 samples from gaussian kernel\n",
    "kde = KernelDensity(kernel='gaussian', bandwidth=0.8).fit(X)\n",
    "samples = kde.sample(n_samples=1000)\n",
    "sns.distplot(samples, color='coral', kde=0)\n",
    "plt.show()"
   ]
  },
  {
   "cell_type": "markdown",
   "metadata": {},
   "source": [
    "<h2>Clustering survey data</h2>\n",
    "\n",
    "In this problem, you will use expectation maximization (EM) on survey data. For the statistical model that we wish to fit, we will assume that everyone comes from one of four clusters.\n",
    "\n",
    "1) Download the following python script which generates (synthetic) responses to a binary questionnaire: https://course-resources.minerva.kgi.edu/uploaded_files/mke/VNN0ZV/questionnaire.py\n",
    "\n",
    "2) Use the script to generate an example dataset.\n",
    "\n",
    "3) Download the following python script which (will) infer which person belonged to which cluster: https://course-resources.minerva.kgi.edu/uploaded_files/mke/Y60gqr/questionnaire-cluster.py In particular you will need to:\n",
    "\n",
    "- Estimate the probability of a person belonging to a particular cluster.\n",
    "\n",
    "- Estimates the maximum likelihood parameters for the biases. This is the probability that a person from a particular cluster will answer true to a particular question."
   ]
  },
  {
   "cell_type": "code",
   "execution_count": 226,
   "metadata": {},
   "outputs": [],
   "source": [
    "import numpy as np\n",
    "\n",
    "p_cluster = [0.4, 0.3, 0.15, 0.15]\n",
    "\n",
    "n_questions = 20\n",
    "n_people = 1000\n",
    "n_clusters = len(p_cluster)\n",
    "\n",
    "biases = np.random.beta(0.75, 0.75, size=(n_questions, n_clusters))\n",
    "people = np.random.choice(range(n_clusters), size=n_people, p=p_cluster)\n",
    "\n",
    "answers = np.zeros((n_people, n_questions), dtype=bool)\n",
    "\n",
    "for a in range(n_people):\n",
    "    cluster = people[a]\n",
    "    answers[a, :] = np.random.rand(n_questions) < biases[:, cluster]\n",
    "\n",
    "#print(people)\n",
    "\n",
    "np.savetxt(\"questionnaire.csv\", answers, delimiter=\",\", fmt=\"%d\")\n",
    "np.savetxt(\"questionnaire_answers.csv\", people, delimiter=\",\", fmt=\"%d\")\n",
    "np.savetxt(\"questionnaire_biases.csv\", biases, delimiter=\",\", fmt=\"%.3f\")"
   ]
  },
  {
   "cell_type": "code",
   "execution_count": 227,
   "metadata": {},
   "outputs": [
    {
     "name": "stdout",
     "output_type": "stream",
     "text": [
      "[[0.5 0.5 0.5 0.5]\n",
      " [0.5 0.5 0.5 0.5]\n",
      " [0.5 0.5 0.5 0.5]\n",
      " [0.5 0.5 0.5 0.5]\n",
      " [0.5 0.5 0.5 0.5]\n",
      " [0.5 0.5 0.5 0.5]\n",
      " [0.5 0.5 0.5 0.5]\n",
      " [0.5 0.5 0.5 0.5]\n",
      " [0.5 0.5 0.5 0.5]\n",
      " [0.5 0.5 0.5 0.5]\n",
      " [0.5 0.5 0.5 0.5]\n",
      " [0.5 0.5 0.5 0.5]\n",
      " [0.5 0.5 0.5 0.5]\n",
      " [0.5 0.5 0.5 0.5]\n",
      " [0.5 0.5 0.5 0.5]\n",
      " [0.5 0.5 0.5 0.5]\n",
      " [0.5 0.5 0.5 0.5]\n",
      " [0.5 0.5 0.5 0.5]\n",
      " [0.5 0.5 0.5 0.5]\n",
      " [0.5 0.5 0.5 0.5]]\n",
      "[[0.23100454 0.3608617  0.1447486  0.26338516]\n",
      " [0.23014913 0.31142387 0.2442255  0.2142015 ]\n",
      " [0.28235874 0.38963299 0.27696592 0.05104235]\n",
      " ...\n",
      " [0.04922842 0.09424983 0.31124    0.54528175]\n",
      " [0.22988413 0.20407051 0.25483211 0.31121325]\n",
      " [0.24232965 0.33475647 0.33800807 0.08490581]]\n"
     ]
    }
   ],
   "source": [
    "import numpy as np\n",
    "\n",
    "answers = np.loadtxt(\"questionnaire.csv\", delimiter=\",\")\n",
    "n_people, n_questions = answers.shape\n",
    "n_clusters = 4\n",
    "\n",
    "p_clusters = np.asarray([0.25, 0.25, 0.25, 0.25])\n",
    "biases = np.random.beta(0.75, 0.75, size=(n_questions, n_clusters))\n",
    "\n",
    "\n",
    "def expectation(answers, biases, p_clusters):\n",
    "    # In this function we create our expectations.\n",
    "\n",
    "    # This is probably not the correct answer!\n",
    "    people = np.random.rand(n_people, n_clusters)\n",
    "\n",
    "    # normalize the distributions\n",
    "    people = people / people.sum(axis=1, keepdims=1)\n",
    "    return people\n",
    "\n",
    "\n",
    "def maximization(answers, people):\n",
    "    # Treating all the data as visible, now infer the parameters for the model.\n",
    "\n",
    "    # This is probably not the correct answer!\n",
    "    biases = np.zeros((n_questions, n_clusters)) + 0.5\n",
    "    return biases\n",
    "\n",
    "def maximization(answers, people): \n",
    "    # Treating all the data as visible, now infer the parameters for the model. \n",
    "    biases = np.zeros((n_questions, n_clusters)) + 0.5\n",
    "    \n",
    "    for i in range(n_clusters): \n",
    "        biases[:, i] = people[i] * answers[i]\n",
    "    \n",
    "    return biases\n",
    "\n",
    "\n",
    "for step in range(10):\n",
    "    people = expectation(answers, biases, p_clusters)\n",
    "    biases = maximization(answers, people)\n",
    "\n",
    "print(biases)\n",
    "print(people)\n"
   ]
  },
  {
   "cell_type": "code",
   "execution_count": 229,
   "metadata": {},
   "outputs": [
    {
     "data": {
      "text/plain": [
       "(1000, 20)"
      ]
     },
     "execution_count": 229,
     "metadata": {},
     "output_type": "execute_result"
    }
   ],
   "source": [
    "answers.shape"
   ]
  }
 ],
 "metadata": {
  "kernelspec": {
   "display_name": "Python 3",
   "language": "python",
   "name": "python3"
  },
  "language_info": {
   "codemirror_mode": {
    "name": "ipython",
    "version": 3
   },
   "file_extension": ".py",
   "mimetype": "text/x-python",
   "name": "python",
   "nbconvert_exporter": "python",
   "pygments_lexer": "ipython3",
   "version": "3.6.5"
  }
 },
 "nbformat": 4,
 "nbformat_minor": 2
}
